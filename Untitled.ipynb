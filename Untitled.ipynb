{
 "cells": [
  {
   "cell_type": "code",
   "execution_count": null,
   "id": "9f67b4ed",
   "metadata": {},
   "outputs": [],
   "source": [
    "# data shape all at one\n",
    "[data.shape for df in (file1,file2,file3)]"
   ]
  },
  {
   "cell_type": "code",
   "execution_count": null,
   "id": "6b6c6cc8",
   "metadata": {},
   "outputs": [],
   "source": [
    "# turn columns to list\n",
    "df.columns.to_list()"
   ]
  },
  {
   "cell_type": "code",
   "execution_count": 1,
   "id": "f51c6a8c",
   "metadata": {},
   "outputs": [],
   "source": [
    "# standardize columns\n",
    "def standardize_col(col):\n",
    "    return col.lower().replace(\" \",\"_\")"
   ]
  },
  {
   "cell_type": "code",
   "execution_count": null,
   "id": "e213f9fa",
   "metadata": {},
   "outputs": [],
   "source": [
    "# new columns list\n",
    "new_cols=[]\n",
    "for col in df1.columns.to_list():\n",
    "    new_cols.append(standardize_col(col))"
   ]
  },
  {
   "cell_type": "code",
   "execution_count": null,
   "id": "c2725011",
   "metadata": {},
   "outputs": [],
   "source": [
    "# all together\n",
    "def standardize_df_col(df):\n",
    "    std_cols=[]\n",
    "    for col in df.columns.to_list():\n",
    "        std_cols.append(standardize_col(col))\n",
    "\n",
    "df.columns=std_cols"
   ]
  }
 ],
 "metadata": {
  "kernelspec": {
   "display_name": "Python 3",
   "language": "python",
   "name": "python3"
  },
  "language_info": {
   "codemirror_mode": {
    "name": "ipython",
    "version": 3
   },
   "file_extension": ".py",
   "mimetype": "text/x-python",
   "name": "python",
   "nbconvert_exporter": "python",
   "pygments_lexer": "ipython3",
   "version": "3.8.8"
  }
 },
 "nbformat": 4,
 "nbformat_minor": 5
}
