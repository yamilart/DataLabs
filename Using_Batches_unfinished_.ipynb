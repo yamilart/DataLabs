{
  "cells": [
    {
      "cell_type": "markdown",
      "metadata": {
        "id": "view-in-github",
        "colab_type": "text"
      },
      "source": [
        "<a href=\"https://colab.research.google.com/github/yamilart/DataLabs/blob/main/Using_Batches_unfinished_.ipynb\" target=\"_parent\"><img src=\"https://colab.research.google.com/assets/colab-badge.svg\" alt=\"Open In Colab\"/></a>"
      ]
    },
    {
      "cell_type": "markdown",
      "metadata": {
        "id": "3smru-EHb8dU"
      },
      "source": [
        "# 🐾 Who let the dogs out? 🐾\n",
        "\n",
        "Final Project: Dog breed detection\n",
        "\n",
        "A little info:\n",
        "\n",
        "*   The original [dataset](https://www.kaggle.com/c/dog-breed-identification/overview) consist in 2 folders with over 20000 images of dogs and a csv with 120 breeds. \n",
        "*   I edited the dataset a bit (since there where no dachshunds and dachshunds = 💗) and also only worked with the images in the \"train\" folder\n",
        "*   This is the 'full' model with 20 breeds, the short version using 10 breeds was made directly on Jupyter notebook and it's called 'Who let 'some' dogs out?'"
      ]
    },
    {
      "cell_type": "markdown",
      "metadata": {
        "id": "oedKBcZocjbT"
      },
      "source": [
        "## Packages"
      ]
    },
    {
      "cell_type": "code",
      "execution_count": null,
      "metadata": {
        "id": "7Ynexc5XcnnA"
      },
      "outputs": [],
      "source": [
        "import os\n",
        "import cv2\n",
        "import pickle\n",
        "import datetime\n",
        "import warnings\n",
        "warnings.filterwarnings('ignore')\n",
        "import itertools\n",
        "import numpy as np\n",
        "import pandas as pd\n",
        "from sklearn.preprocessing import LabelEncoder\n",
        "import tensorflow as tf\n",
        "from tensorflow import keras\n",
        "from tensorflow.keras.optimizers import RMSprop\n",
        "from keras.layers import Conv2D, MaxPooling2D, GlobalAveragePooling2D, Input\n",
        "from keras.layers import Dropout, Flatten, Dense\n",
        "from keras.models import Sequential\n",
        "import tensorflow_hub as hub\n",
        "import matplotlib.pyplot as plt\n",
        "from IPython.display import display, Image  \n",
        "from sklearn.model_selection import train_test_split\n",
        "import datetime\n",
        "from sklearn.preprocessing import LabelEncoder\n",
        "import matplotlib.pyplot as plt\n",
        "from matplotlib import pyplot\n",
        "import tensorflow_hub as hub\n",
        "from IPython.display import Image\n",
        "from matplotlib.pyplot import imread\n",
        "from sklearn.model_selection import train_test_split\n",
        "import PIL.Image\n",
        "from tensorflow.keras.applications.resnet_v2 import ResNet50V2, preprocess_input\n",
        "from tensorflow.keras.preprocessing.image import ImageDataGenerator\n",
        "from tensorflow.keras.layers import Dense, GlobalAveragePooling2D, Dropout, BatchNormalization\n",
        "from tensorflow.keras.models import load_model, Model\n",
        "from google.colab import drive\n",
        "from google.colab.patches import cv2_imshow"
      ]
    },
    {
      "cell_type": "markdown",
      "metadata": {
        "id": "0wJMAQSM-9B8"
      },
      "source": [
        "## Getting Data & EDA"
      ]
    },
    {
      "cell_type": "code",
      "source": [
        "# loading & checking data: breeds\n",
        "drive.mount('/content/drive') # this is to open files from my drive"
      ],
      "metadata": {
        "colab": {
          "base_uri": "https://localhost:8080/"
        },
        "id": "zF_4KZ-drH1k",
        "outputId": "6a89e460-a387-458a-f102-93859d249af9"
      },
      "execution_count": null,
      "outputs": [
        {
          "output_type": "stream",
          "name": "stdout",
          "text": [
            "Drive already mounted at /content/drive; to attempt to forcibly remount, call drive.mount(\"/content/drive\", force_remount=True).\n"
          ]
        }
      ]
    },
    {
      "cell_type": "code",
      "execution_count": null,
      "metadata": {
        "colab": {
          "base_uri": "https://localhost:8080/",
          "height": 424
        },
        "id": "RpKE4VW-HyQZ",
        "outputId": "768f3a1b-5086-458e-db13-36540216af65"
      },
      "outputs": [
        {
          "output_type": "execute_result",
          "data": {
            "text/html": [
              "<div>\n",
              "<style scoped>\n",
              "    .dataframe tbody tr th:only-of-type {\n",
              "        vertical-align: middle;\n",
              "    }\n",
              "\n",
              "    .dataframe tbody tr th {\n",
              "        vertical-align: top;\n",
              "    }\n",
              "\n",
              "    .dataframe thead th {\n",
              "        text-align: right;\n",
              "    }\n",
              "</style>\n",
              "<table border=\"1\" class=\"dataframe\">\n",
              "  <thead>\n",
              "    <tr style=\"text-align: right;\">\n",
              "      <th></th>\n",
              "      <th>id</th>\n",
              "      <th>breed</th>\n",
              "    </tr>\n",
              "  </thead>\n",
              "  <tbody>\n",
              "    <tr>\n",
              "      <th>0</th>\n",
              "      <td>000bec180eb18c7604dcecc8fe0dba07</td>\n",
              "      <td>boston_bull</td>\n",
              "    </tr>\n",
              "    <tr>\n",
              "      <th>1</th>\n",
              "      <td>001513dfcb2ffafc82cccf4d8bbaba97</td>\n",
              "      <td>dingo</td>\n",
              "    </tr>\n",
              "    <tr>\n",
              "      <th>2</th>\n",
              "      <td>001cdf01b096e06d78e9e5112d419397</td>\n",
              "      <td>pekinese</td>\n",
              "    </tr>\n",
              "    <tr>\n",
              "      <th>3</th>\n",
              "      <td>00214f311d5d2247d5dfe4fe24b2303d</td>\n",
              "      <td>bluetick</td>\n",
              "    </tr>\n",
              "    <tr>\n",
              "      <th>4</th>\n",
              "      <td>0021f9ceb3235effd7fcde7f7538ed62</td>\n",
              "      <td>golden_retriever</td>\n",
              "    </tr>\n",
              "    <tr>\n",
              "      <th>...</th>\n",
              "      <td>...</td>\n",
              "      <td>...</td>\n",
              "    </tr>\n",
              "    <tr>\n",
              "      <th>10217</th>\n",
              "      <td>ffd25009d635cfd16e793503ac5edef0</td>\n",
              "      <td>borzoi</td>\n",
              "    </tr>\n",
              "    <tr>\n",
              "      <th>10218</th>\n",
              "      <td>ffd3f636f7f379c51ba3648a9ff8254f</td>\n",
              "      <td>dandie_dinmont</td>\n",
              "    </tr>\n",
              "    <tr>\n",
              "      <th>10219</th>\n",
              "      <td>ffe2ca6c940cddfee68fa3cc6c63213f</td>\n",
              "      <td>airedale</td>\n",
              "    </tr>\n",
              "    <tr>\n",
              "      <th>10220</th>\n",
              "      <td>ffe5f6d8e2bff356e9482a80a6e29aac</td>\n",
              "      <td>miniature_pinscher</td>\n",
              "    </tr>\n",
              "    <tr>\n",
              "      <th>10221</th>\n",
              "      <td>fff43b07992508bc822f33d8ffd902ae</td>\n",
              "      <td>chesapeake_bay_retriever</td>\n",
              "    </tr>\n",
              "  </tbody>\n",
              "</table>\n",
              "<p>10222 rows × 2 columns</p>\n",
              "</div>"
            ],
            "text/plain": [
              "                                     id                     breed\n",
              "0      000bec180eb18c7604dcecc8fe0dba07               boston_bull\n",
              "1      001513dfcb2ffafc82cccf4d8bbaba97                     dingo\n",
              "2      001cdf01b096e06d78e9e5112d419397                  pekinese\n",
              "3      00214f311d5d2247d5dfe4fe24b2303d                  bluetick\n",
              "4      0021f9ceb3235effd7fcde7f7538ed62          golden_retriever\n",
              "...                                 ...                       ...\n",
              "10217  ffd25009d635cfd16e793503ac5edef0                    borzoi\n",
              "10218  ffd3f636f7f379c51ba3648a9ff8254f            dandie_dinmont\n",
              "10219  ffe2ca6c940cddfee68fa3cc6c63213f                  airedale\n",
              "10220  ffe5f6d8e2bff356e9482a80a6e29aac        miniature_pinscher\n",
              "10221  fff43b07992508bc822f33d8ffd902ae  chesapeake_bay_retriever\n",
              "\n",
              "[10222 rows x 2 columns]"
            ]
          },
          "metadata": {},
          "execution_count": 4
        }
      ],
      "source": [
        "# loading & checking data: breeds\n",
        "dogbreeds = pd.read_csv('/content/drive/MyDrive/dog-breeds/labelsbreeds.csv') \n",
        "# personal note: paths are going to be different on my computer\n",
        "dogbreeds"
      ]
    },
    {
      "cell_type": "code",
      "execution_count": null,
      "metadata": {
        "colab": {
          "base_uri": "https://localhost:8080/"
        },
        "id": "IxQoO7Gzqwx7",
        "outputId": "b2507416-e0fb-42a1-9fa3-743d15aba546"
      },
      "outputs": [
        {
          "output_type": "stream",
          "name": "stdout",
          "text": [
            "<class 'pandas.core.frame.DataFrame'>\n",
            "RangeIndex: 10222 entries, 0 to 10221\n",
            "Data columns (total 2 columns):\n",
            " #   Column  Non-Null Count  Dtype \n",
            "---  ------  --------------  ----- \n",
            " 0   id      10222 non-null  object\n",
            " 1   breed   10222 non-null  object\n",
            "dtypes: object(2)\n",
            "memory usage: 159.8+ KB\n"
          ]
        }
      ],
      "source": [
        "dogbreeds.info()"
      ]
    },
    {
      "cell_type": "code",
      "execution_count": null,
      "metadata": {
        "colab": {
          "base_uri": "https://localhost:8080/"
        },
        "id": "L7wbMXt2qwx7",
        "outputId": "13ecab1d-ec77-4624-9ef6-9d2585e05ff3"
      },
      "outputs": [
        {
          "output_type": "execute_result",
          "data": {
            "text/plain": [
              "scottish_deerhound      126\n",
              "maltese_dog             117\n",
              "afghan_hound            116\n",
              "entlebucher             115\n",
              "bernese_mountain_dog    114\n",
              "                       ... \n",
              "brabancon_griffon        67\n",
              "komondor                 67\n",
              "golden_retriever         67\n",
              "eskimo_dog               66\n",
              "briard                   66\n",
              "Name: breed, Length: 120, dtype: int64"
            ]
          },
          "metadata": {},
          "execution_count": 6
        }
      ],
      "source": [
        "dogbreeds['breed'].value_counts()"
      ]
    },
    {
      "cell_type": "code",
      "execution_count": null,
      "metadata": {
        "colab": {
          "base_uri": "https://localhost:8080/",
          "height": 647
        },
        "id": "_PRNp6Taqwx7",
        "outputId": "27c48558-cd7e-4430-cc09-1c972780162a"
      },
      "outputs": [
        {
          "output_type": "display_data",
          "data": {
            "image/png": "[encoded data removed]",
            "text/plain": [
              "<Figure size 1440x720 with 1 Axes>"
            ]
          },
          "metadata": {
            "needs_background": "light"
          }
        }
      ],
      "source": [
        "# visualizing the amount of pictures of each breed\n",
        "dogbreeds['breed'].value_counts().plot.bar(figsize=(20, 10));"
      ]
    },
    {
      "cell_type": "code",
      "execution_count": null,
      "metadata": {
        "colab": {
          "base_uri": "https://localhost:8080/"
        },
        "id": "KNp6LHe_qwx8",
        "outputId": "33f2c0b4-a32f-42b0-bc97-56183444c6b7"
      },
      "outputs": [
        {
          "output_type": "execute_result",
          "data": {
            "text/plain": [
              "array(['boston_bull', 'dingo', 'pekinese', 'bluetick', 'golden_retriever',\n",
              "       'bedlington_terrier', 'borzoi', 'basenji', 'scottish_deerhound',\n",
              "       'shetland_sheepdog', 'walker_hound', 'maltese_dog',\n",
              "       'norfolk_terrier', 'african_hunting_dog',\n",
              "       'wire-haired_fox_terrier', 'redbone', 'lakeland_terrier', 'boxer',\n",
              "       'doberman', 'otterhound', 'standard_schnauzer',\n",
              "       'irish_water_spaniel', 'black-and-tan_coonhound', 'cairn',\n",
              "       'affenpinscher', 'labrador_retriever', 'ibizan_hound',\n",
              "       'english_setter', 'weimaraner', 'giant_schnauzer', 'groenendael',\n",
              "       'dachshund', 'toy_poodle', 'border_terrier', 'tibetan_terrier',\n",
              "       'norwegian_elkhound', 'shih-tzu', 'irish_terrier', 'kuvasz',\n",
              "       'german_shepherd', 'greater_swiss_mountain_dog', 'basset',\n",
              "       'australian_terrier', 'schipperke', 'rhodesian_ridgeback',\n",
              "       'irish_setter', 'appenzeller', 'bloodhound', 'samoyed',\n",
              "       'miniature_schnauzer', 'brittany_spaniel', 'kelpie', 'papillon',\n",
              "       'border_collie', 'entlebucher', 'collie', 'malamute',\n",
              "       'welsh_springer_spaniel', 'chihuahua', 'saluki', 'pug', 'malinois',\n",
              "       'komondor', 'airedale', 'leonberg', 'mexican_hairless',\n",
              "       'bull_mastiff', 'bernese_mountain_dog',\n",
              "       'american_staffordshire_terrier', 'lhasa', 'cardigan',\n",
              "       'italian_greyhound', 'clumber', 'scotch_terrier', 'afghan_hound',\n",
              "       'old_english_sheepdog', 'saint_bernard', 'miniature_pinscher',\n",
              "       'eskimo_dog', 'irish_wolfhound', 'brabancon_griffon',\n",
              "       'toy_terrier', 'chow', 'flat-coated_retriever', 'norwich_terrier',\n",
              "       'soft-coated_wheaten_terrier', 'staffordshire_bullterrier',\n",
              "       'english_foxhound', 'gordon_setter', 'siberian_husky',\n",
              "       'newfoundland', 'briard', 'chesapeake_bay_retriever',\n",
              "       'dandie_dinmont', 'great_pyrenees', 'beagle', 'vizsla',\n",
              "       'west_highland_white_terrier', 'kerry_blue_terrier', 'whippet',\n",
              "       'sealyham_terrier', 'standard_poodle', 'keeshond',\n",
              "       'japanese_spaniel', 'miniature_poodle', 'pomeranian',\n",
              "       'curly-coated_retriever', 'yorkshire_terrier', 'pembroke',\n",
              "       'great_dane', 'blenheim_spaniel', 'silky_terrier',\n",
              "       'sussex_spaniel', 'german_short-haired_pointer', 'french_bulldog',\n",
              "       'bouvier_des_flandres', 'tibetan_mastiff', 'english_springer',\n",
              "       'cocker_spaniel', 'rottweiler'], dtype=object)"
            ]
          },
          "metadata": {},
          "execution_count": 8
        }
      ],
      "source": [
        "# checking the breeds\n",
        "dogbreeds['breed'].unique()"
      ]
    },
    {
      "cell_type": "code",
      "execution_count": null,
      "metadata": {
        "colab": {
          "base_uri": "https://localhost:8080/",
          "height": 439
        },
        "id": "DmCSg57cqwx8",
        "outputId": "5d031fcb-dead-441a-fe5d-c6dce8c3317e"
      },
      "outputs": [
        {
          "output_type": "execute_result",
          "data": {
            "image/jpeg": "[encoded data removed]",
            "text/plain": [
              "<IPython.core.display.Image object>"
            ]
          },
          "metadata": {},
          "execution_count": 9
        }
      ],
      "source": [
        "# naming the picture folder\n",
        "images = '/content/drive/MyDrive/dog-breeds/trainbreeds/'\n",
        "# checking a random picture\n",
        "Image('/content/drive/MyDrive/dog-breeds/trainbreeds/0a6c192b96e55e2ca37318919b1ffae6.jpg')"
      ]
    },
    {
      "cell_type": "markdown",
      "source": [
        "A festive cutie!"
      ],
      "metadata": {
        "id": "TzbYJ21lzHOc"
      }
    },
    {
      "cell_type": "code",
      "execution_count": null,
      "metadata": {
        "colab": {
          "base_uri": "https://localhost:8080/",
          "height": 424
        },
        "id": "0-wOLc7mqwx-",
        "outputId": "4d7067a2-5f29-45d8-c024-655d9712f5bd"
      },
      "outputs": [
        {
          "output_type": "execute_result",
          "data": {
            "text/html": [
              "<div>\n",
              "<style scoped>\n",
              "    .dataframe tbody tr th:only-of-type {\n",
              "        vertical-align: middle;\n",
              "    }\n",
              "\n",
              "    .dataframe tbody tr th {\n",
              "        vertical-align: top;\n",
              "    }\n",
              "\n",
              "    .dataframe thead th {\n",
              "        text-align: right;\n",
              "    }\n",
              "</style>\n",
              "<table border=\"1\" class=\"dataframe\">\n",
              "  <thead>\n",
              "    <tr style=\"text-align: right;\">\n",
              "      <th></th>\n",
              "      <th>id</th>\n",
              "      <th>breed</th>\n",
              "      <th>image_path</th>\n",
              "    </tr>\n",
              "  </thead>\n",
              "  <tbody>\n",
              "    <tr>\n",
              "      <th>0</th>\n",
              "      <td>000bec180eb18c7604dcecc8fe0dba07</td>\n",
              "      <td>boston_bull</td>\n",
              "      <td>/content/drive/MyDrive/dog-breeds/trainbreeds/...</td>\n",
              "    </tr>\n",
              "    <tr>\n",
              "      <th>1</th>\n",
              "      <td>001513dfcb2ffafc82cccf4d8bbaba97</td>\n",
              "      <td>dingo</td>\n",
              "      <td>/content/drive/MyDrive/dog-breeds/trainbreeds/...</td>\n",
              "    </tr>\n",
              "    <tr>\n",
              "      <th>2</th>\n",
              "      <td>001cdf01b096e06d78e9e5112d419397</td>\n",
              "      <td>pekinese</td>\n",
              "      <td>/content/drive/MyDrive/dog-breeds/trainbreeds/...</td>\n",
              "    </tr>\n",
              "    <tr>\n",
              "      <th>3</th>\n",
              "      <td>00214f311d5d2247d5dfe4fe24b2303d</td>\n",
              "      <td>bluetick</td>\n",
              "      <td>/content/drive/MyDrive/dog-breeds/trainbreeds/...</td>\n",
              "    </tr>\n",
              "    <tr>\n",
              "      <th>4</th>\n",
              "      <td>0021f9ceb3235effd7fcde7f7538ed62</td>\n",
              "      <td>golden_retriever</td>\n",
              "      <td>/content/drive/MyDrive/dog-breeds/trainbreeds/...</td>\n",
              "    </tr>\n",
              "    <tr>\n",
              "      <th>...</th>\n",
              "      <td>...</td>\n",
              "      <td>...</td>\n",
              "      <td>...</td>\n",
              "    </tr>\n",
              "    <tr>\n",
              "      <th>10217</th>\n",
              "      <td>ffd25009d635cfd16e793503ac5edef0</td>\n",
              "      <td>borzoi</td>\n",
              "      <td>/content/drive/MyDrive/dog-breeds/trainbreeds/...</td>\n",
              "    </tr>\n",
              "    <tr>\n",
              "      <th>10218</th>\n",
              "      <td>ffd3f636f7f379c51ba3648a9ff8254f</td>\n",
              "      <td>dandie_dinmont</td>\n",
              "      <td>/content/drive/MyDrive/dog-breeds/trainbreeds/...</td>\n",
              "    </tr>\n",
              "    <tr>\n",
              "      <th>10219</th>\n",
              "      <td>ffe2ca6c940cddfee68fa3cc6c63213f</td>\n",
              "      <td>airedale</td>\n",
              "      <td>/content/drive/MyDrive/dog-breeds/trainbreeds/...</td>\n",
              "    </tr>\n",
              "    <tr>\n",
              "      <th>10220</th>\n",
              "      <td>ffe5f6d8e2bff356e9482a80a6e29aac</td>\n",
              "      <td>miniature_pinscher</td>\n",
              "      <td>/content/drive/MyDrive/dog-breeds/trainbreeds/...</td>\n",
              "    </tr>\n",
              "    <tr>\n",
              "      <th>10221</th>\n",
              "      <td>fff43b07992508bc822f33d8ffd902ae</td>\n",
              "      <td>chesapeake_bay_retriever</td>\n",
              "      <td>/content/drive/MyDrive/dog-breeds/trainbreeds/...</td>\n",
              "    </tr>\n",
              "  </tbody>\n",
              "</table>\n",
              "<p>10222 rows × 3 columns</p>\n",
              "</div>"
            ],
            "text/plain": [
              "                                     id  ...                                         image_path\n",
              "0      000bec180eb18c7604dcecc8fe0dba07  ...  /content/drive/MyDrive/dog-breeds/trainbreeds/...\n",
              "1      001513dfcb2ffafc82cccf4d8bbaba97  ...  /content/drive/MyDrive/dog-breeds/trainbreeds/...\n",
              "2      001cdf01b096e06d78e9e5112d419397  ...  /content/drive/MyDrive/dog-breeds/trainbreeds/...\n",
              "3      00214f311d5d2247d5dfe4fe24b2303d  ...  /content/drive/MyDrive/dog-breeds/trainbreeds/...\n",
              "4      0021f9ceb3235effd7fcde7f7538ed62  ...  /content/drive/MyDrive/dog-breeds/trainbreeds/...\n",
              "...                                 ...  ...                                                ...\n",
              "10217  ffd25009d635cfd16e793503ac5edef0  ...  /content/drive/MyDrive/dog-breeds/trainbreeds/...\n",
              "10218  ffd3f636f7f379c51ba3648a9ff8254f  ...  /content/drive/MyDrive/dog-breeds/trainbreeds/...\n",
              "10219  ffe2ca6c940cddfee68fa3cc6c63213f  ...  /content/drive/MyDrive/dog-breeds/trainbreeds/...\n",
              "10220  ffe5f6d8e2bff356e9482a80a6e29aac  ...  /content/drive/MyDrive/dog-breeds/trainbreeds/...\n",
              "10221  fff43b07992508bc822f33d8ffd902ae  ...  /content/drive/MyDrive/dog-breeds/trainbreeds/...\n",
              "\n",
              "[10222 rows x 3 columns]"
            ]
          },
          "metadata": {},
          "execution_count": 10
        }
      ],
      "source": [
        "# now i need to get the image path in the csv file\n",
        "dogs = dogbreeds.copy()\n",
        "dogs = dogbreeds.assign(image_path = lambda x: images + x['id'] + '.jpg')\n",
        "dogs"
      ]
    },
    {
      "cell_type": "code",
      "execution_count": null,
      "metadata": {
        "colab": {
          "base_uri": "https://localhost:8080/"
        },
        "id": "oLaU1KHJqwx9",
        "outputId": "da4ad3a2-1d17-46e6-9bd2-fbe2f0d2dded"
      },
      "outputs": [
        {
          "output_type": "execute_result",
          "data": {
            "text/plain": [
              "id            0\n",
              "breed         0\n",
              "image_path    0\n",
              "dtype: int64"
            ]
          },
          "metadata": {},
          "execution_count": 11
        }
      ],
      "source": [
        "# got to make sure I don't have any nulls there since I edited the original data\n",
        "dogs.isna().sum()"
      ]
    },
    {
      "cell_type": "code",
      "execution_count": null,
      "metadata": {
        "colab": {
          "base_uri": "https://localhost:8080/",
          "height": 81
        },
        "id": "9-yn00rKqwx9",
        "outputId": "366830c7-a62d-45a1-e9fb-a4a7e744a84e"
      },
      "outputs": [
        {
          "output_type": "execute_result",
          "data": {
            "text/html": [
              "<div>\n",
              "<style scoped>\n",
              "    .dataframe tbody tr th:only-of-type {\n",
              "        vertical-align: middle;\n",
              "    }\n",
              "\n",
              "    .dataframe tbody tr th {\n",
              "        vertical-align: top;\n",
              "    }\n",
              "\n",
              "    .dataframe thead th {\n",
              "        text-align: right;\n",
              "    }\n",
              "</style>\n",
              "<table border=\"1\" class=\"dataframe\">\n",
              "  <thead>\n",
              "    <tr style=\"text-align: right;\">\n",
              "      <th></th>\n",
              "      <th>id</th>\n",
              "      <th>breed</th>\n",
              "      <th>image_path</th>\n",
              "    </tr>\n",
              "  </thead>\n",
              "  <tbody>\n",
              "    <tr>\n",
              "      <th>434</th>\n",
              "      <td>0a6c192b96e55e2ca37318919b1ffae6</td>\n",
              "      <td>collie</td>\n",
              "      <td>/content/drive/MyDrive/dog-breeds/trainbreeds/...</td>\n",
              "    </tr>\n",
              "  </tbody>\n",
              "</table>\n",
              "</div>"
            ],
            "text/plain": [
              "                                   id  ...                                         image_path\n",
              "434  0a6c192b96e55e2ca37318919b1ffae6  ...  /content/drive/MyDrive/dog-breeds/trainbreeds/...\n",
              "\n",
              "[1 rows x 3 columns]"
            ]
          },
          "metadata": {},
          "execution_count": 12
        }
      ],
      "source": [
        "# checking if it works, if I call the id of the picture before I shold get a... border collie?\n",
        "dogs.loc[dogbreeds['id'] == '0a6c192b96e55e2ca37318919b1ffae6']"
      ]
    },
    {
      "cell_type": "markdown",
      "source": [
        "Collie & Border Collie are different breeds apparently! The more you learn..."
      ],
      "metadata": {
        "id": "jLuWmA4cDIBb"
      }
    },
    {
      "cell_type": "code",
      "execution_count": null,
      "metadata": {
        "colab": {
          "base_uri": "https://localhost:8080/",
          "height": 35
        },
        "id": "-BLXaBGdqwx9",
        "outputId": "ebfddb68-013d-4c5d-c296-2988cf5d5fe6"
      },
      "outputs": [
        {
          "output_type": "execute_result",
          "data": {
            "application/vnd.google.colaboratory.intrinsic+json": {
              "type": "string"
            },
            "text/plain": [
              "'dachshund'"
            ]
          },
          "metadata": {},
          "execution_count": 13
        }
      ],
      "source": [
        "# checking one more because: dogs\n",
        "dogs['breed'][42]"
      ]
    },
    {
      "cell_type": "code",
      "execution_count": null,
      "metadata": {
        "colab": {
          "base_uri": "https://localhost:8080/"
        },
        "id": "BQ41q4MBqwx-",
        "outputId": "18a11461-a3ab-415c-e6d9-3aae522e5033"
      },
      "outputs": [
        {
          "output_type": "execute_result",
          "data": {
            "text/plain": [
              "id                             011e06760794850c40f23d6426c40774\n",
              "breed                                                 dachshund\n",
              "image_path    /content/drive/MyDrive/dog-breeds/trainbreeds/...\n",
              "Name: 42, dtype: object"
            ]
          },
          "metadata": {},
          "execution_count": 14
        }
      ],
      "source": [
        "# locating the id to find the picture\n",
        "dogs.iloc[42]"
      ]
    },
    {
      "cell_type": "code",
      "execution_count": null,
      "metadata": {
        "colab": {
          "base_uri": "https://localhost:8080/",
          "height": 371
        },
        "id": "2PTkj2deqwx-",
        "outputId": "96badebb-8478-4c1b-d8f3-25b19a4e69e5"
      },
      "outputs": [
        {
          "output_type": "execute_result",
          "data": {
            "image/jpeg": "[encoded data removed]",
            "text/plain": [
              "<IPython.core.display.Image object>"
            ]
          },
          "metadata": {},
          "execution_count": 15
        }
      ],
      "source": [
        "Image(dogs['image_path'][42])"
      ]
    },
    {
      "cell_type": "markdown",
      "source": [
        "Oh god, so cute"
      ],
      "metadata": {
        "id": "OimxOJ9AzYVf"
      }
    },
    {
      "cell_type": "code",
      "execution_count": null,
      "metadata": {
        "id": "hBKZUH2wqwx-"
      },
      "outputs": [],
      "source": [
        "# making a copy of the data just in case\n",
        "somedogs = dogs.copy()"
      ]
    },
    {
      "cell_type": "markdown",
      "source": [
        "## Selecting data\n",
        "\n",
        "Since 120 breeds is **A LOT OF DATA TO WORK WITH** I'm going to be realistic and will choose only 20 breeds to start.  \n",
        "The selection is based on breeds I can recognize and also look quite different to see if this helps the model (or not)"
      ],
      "metadata": {
        "id": "cMyyWOKEzd0C"
      }
    },
    {
      "cell_type": "code",
      "execution_count": null,
      "metadata": {
        "colab": {
          "base_uri": "https://localhost:8080/"
        },
        "id": "IgtKnYK-qwx-",
        "outputId": "735b8aa2-1390-4e35-89ba-18322f537abe"
      },
      "outputs": [
        {
          "output_type": "stream",
          "name": "stdout",
          "text": [
            "<class 'pandas.core.frame.DataFrame'>\n",
            "RangeIndex: 1634 entries, 0 to 1633\n",
            "Data columns (total 3 columns):\n",
            " #   Column      Non-Null Count  Dtype \n",
            "---  ------      --------------  ----- \n",
            " 0   id          1634 non-null   object\n",
            " 1   breed       1634 non-null   object\n",
            " 2   image_path  1634 non-null   object\n",
            "dtypes: object(3)\n",
            "memory usage: 38.4+ KB\n"
          ]
        }
      ],
      "source": [
        "# breed selection: \n",
        "somedogs = somedogs.loc[somedogs['breed'].isin(['dachshund', 'golden_retriever', 'chow', 'siberian_husky', \n",
        "                                                'great_dane', 'french_bulldog', 'rottweiler', 'cocker_spaniel', \n",
        "                                                'pekinese', 'doberman', 'boxer', 'labrador_retriever', \n",
        "                                                'samoyed', 'beagle', 'chihuahua', 'toy_terrier', \n",
        "                                                'basset', 'collie', 'bloodhound', 'yorkshire_terrier'])]\n",
        "somedogs.reset_index(drop = True, inplace = True)\n",
        "somedogs.info()"
      ]
    },
    {
      "cell_type": "code",
      "execution_count": null,
      "metadata": {
        "colab": {
          "base_uri": "https://localhost:8080/"
        },
        "id": "Yx8_3trnqwx_",
        "outputId": "784ef4a2-a923-4ef6-c32c-8a386c0aa745"
      },
      "outputs": [
        {
          "output_type": "execute_result",
          "data": {
            "text/plain": [
              "samoyed               109\n",
              "beagle                105\n",
              "siberian_husky         95\n",
              "chow                   93\n",
              "collie                 87\n",
              "bloodhound             85\n",
              "labrador_retriever     84\n",
              "yorkshire_terrier      82\n",
              "basset                 82\n",
              "toy_terrier            79\n",
              "dachshund              76\n",
              "rottweiler             76\n",
              "boxer                  75\n",
              "great_dane             75\n",
              "pekinese               75\n",
              "doberman               74\n",
              "cocker_spaniel         74\n",
              "chihuahua              71\n",
              "french_bulldog         70\n",
              "golden_retriever       67\n",
              "Name: breed, dtype: int64"
            ]
          },
          "metadata": {},
          "execution_count": 18
        }
      ],
      "source": [
        "somedogs['breed'].value_counts()"
      ]
    },
    {
      "cell_type": "code",
      "execution_count": null,
      "metadata": {
        "colab": {
          "base_uri": "https://localhost:8080/",
          "height": 593
        },
        "id": "JBSGez_tqwx_",
        "outputId": "168a6be0-9238-47c4-e07e-821a6a68e94b"
      },
      "outputs": [
        {
          "output_type": "display_data",
          "data": {
            "image/png": "[encoded data removed]",
            "text/plain": [
              "<Figure size 1440x720 with 1 Axes>"
            ]
          },
          "metadata": {
            "needs_background": "light"
          }
        }
      ],
      "source": [
        "# the amount of pictures of each breed: the graph way\n",
        "somedogs['breed'].value_counts().plot.bar(figsize=(20, 10));"
      ]
    },
    {
      "cell_type": "markdown",
      "source": [
        "## Transforming data\n",
        "I need to transform the data in order to work with it since I basically have images and a bunch of texts."
      ],
      "metadata": {
        "id": "lxAAUVqV_jbA"
      }
    },
    {
      "cell_type": "markdown",
      "metadata": {
        "id": "9xGHe6XnKSuI"
      },
      "source": [
        "### Breeds\n",
        "First I'm turning the breeds into arrays\n",
        " "
      ]
    },
    {
      "cell_type": "code",
      "source": [
        "# getting a string of all the breeds and a list of the unique values\n",
        "string_breeds = np.array(somedogs.breed)\n",
        "unique_breeds = np.unique(string_breeds)\n",
        "# turning every breed\n",
        "breeds = [breed == np.array(unique_breeds) for breed in string_breeds]"
      ],
      "metadata": {
        "id": "3bjQ37fpTaun"
      },
      "execution_count": null,
      "outputs": []
    },
    {
      "cell_type": "markdown",
      "metadata": {
        "id": "8OynuMJyLhDF"
      },
      "source": [
        "### Variables X & y"
      ]
    },
    {
      "cell_type": "code",
      "execution_count": null,
      "metadata": {
        "id": "BducvP1vLvk7"
      },
      "outputs": [],
      "source": [
        "X = somedogs['image_path'] # images\n",
        "y = breeds # breeds (in arrays)"
      ]
    },
    {
      "cell_type": "code",
      "execution_count": null,
      "metadata": {
        "id": "52oo5m-HL4lB",
        "colab": {
          "base_uri": "https://localhost:8080/"
        },
        "outputId": "1823a326-729b-4b60-f923-c07367bd3426"
      },
      "outputs": [
        {
          "output_type": "stream",
          "name": "stdout",
          "text": [
            "1143 1143 491 491\n"
          ]
        }
      ],
      "source": [
        "# split the dataset: 70% for training and 30% for testing. Randomness at 42 because it's the answer\n",
        "X_train, X_test, y_train, y_test = train_test_split(X, y, test_size = 0.3, random_state = 42)\n",
        "# checking if lengths are equal\n",
        "print(len(X_train), len(y_train), len(X_test), len(y_test))"
      ]
    },
    {
      "cell_type": "markdown",
      "metadata": {
        "id": "nuhouZA2NfSi"
      },
      "source": [
        "### Images\n",
        "I need to resize my images (going to use 224 x 224), add a color layer (RGB: 3), turn the images into arrays and scale that array from -1 to 1.\n",
        "So I'm basically turning my images into Tensors to be able to use them with TensorFlow."
      ]
    },
    {
      "cell_type": "code",
      "execution_count": null,
      "metadata": {
        "id": "m8SOHE9FNhsm"
      },
      "outputs": [],
      "source": [
        "# creating a function to process the image\n",
        "def img_process(image_path):\n",
        "# I need to open and read the image\n",
        "    image = tf.io.read_file(image_path)\n",
        "# turn it to a numerical Tensor with RGB channel (3)\n",
        "    image = tf.image.decode_jpeg(image, channels = 3)\n",
        "# convert the RGB values from 0-225 to 0-1\n",
        "    image = tf.image.convert_image_dtype(image, tf.float32)\n",
        "# resize the image, I'm using 224 x 244 since I saw it's a usual size\n",
        "    image = tf.image.resize(image, size=[224, 224])\n",
        "    return image\n",
        "\n",
        "# now I need to return a tuple (image, label) for each image\n",
        "def get_image_label(image_path, label):\n",
        "   image = img_process(image_path)\n",
        "   return image, label"
      ]
    },
    {
      "cell_type": "markdown",
      "source": [
        "### 'Grouping' the images: creating batches\n",
        "Working with so many pictures can really slow down the models so I'm 'splitting' the images into groups"
      ],
      "metadata": {
        "id": "0rsTlL10UADL"
      }
    },
    {
      "cell_type": "code",
      "source": [
        "# Create a function to turn data into batches\n",
        "def create_batches(x, y = None, batch_size = 32, valid_data = False, test_data = False):\n",
        "  # If the data is a test dataset, we don't have labels\n",
        "  if test_data:\n",
        "    # Get the slices of an array in the form of tensors, we only pass filepaths\n",
        "    data = tf.data.Dataset.from_tensor_slices((tf.constant(x)))\n",
        "    # Preprocess each image object with our 'process_image' function\n",
        "    data = data.map(process_image)\n",
        "    # Turn our data into batches\n",
        "    data_batch = data.batch(32)\n",
        "    return data_batch\n",
        "  \n",
        "  # If the data if a valid dataset, we don't need to shuffle it\n",
        "  elif valid_data:\n",
        "    # Get the slices of an array in the form of tensors, we pass filepaths and labels\n",
        "    data = tf.data.Dataset.from_tensor_slices((tf.constant(x), tf.constant(y)))\n",
        "    # Preprocess each (image, label) object with our 'get_image_label' function\n",
        "    data = data.map(get_image_label)\n",
        "    # Turn our data into batches\n",
        "    data_batch = data.batch(32)\n",
        "    return data_batch\n",
        "\n",
        "  else:\n",
        "    # Get the slices of an array in the form of tensors, we pass filepaths and labels\n",
        "    data = tf.data.Dataset.from_tensor_slices((tf.constant(x), tf.constant(y)))\n",
        "    \n",
        "    # Shuffling pathnames and labels before mapping image processor function is faster than shuffling images\n",
        "    data = data.shuffle(buffer_size=len(x))\n",
        "\n",
        "    # Preprocess each image object with our 'process_image' function\n",
        "    data = data.map(get_image_label)\n",
        "\n",
        "    # Turn the data into batches\n",
        "    data_batch = data.batch(32)\n",
        "  return data_batch\n",
        "\n",
        "\n",
        "# Create training and validation data batches\n",
        "train_data = create_batches(X_train, y_train)\n",
        "val_data = create_batches(X_test, y_test, valid_data = True)"
      ],
      "metadata": {
        "id": "JMOgj1dnT_aC"
      },
      "execution_count": null,
      "outputs": []
    },
    {
      "cell_type": "markdown",
      "metadata": {
        "id": "iBPDZhbrAEqv"
      },
      "source": [
        "## Models\n",
        "I'll be working with the Keras [Sequencial model](https://keras.io/guides/sequential_model/) only, trying different values and layers.   \n",
        "Since it's a linear stack of layers it's was easier for me to understand it and apply it knowing what I was doing.\n",
        "\n",
        "Initially I had planned to apply also a Functional Model bulding a ResNet but I really couldn't understand the process and my loss values where off the roof.   \n",
        "It's going into my Wishlist.\n"
      ]
    },
    {
      "cell_type": "markdown",
      "source": [
        "**Defining first steps**"
      ],
      "metadata": {
        "id": "3THLQ-JzF6aX"
      }
    },
    {
      "cell_type": "code",
      "execution_count": null,
      "metadata": {
        "id": "AIfgIO-kAGkv"
      },
      "outputs": [],
      "source": [
        "# Setup input shape to the model = batch, height, width, colour channels\n",
        "in_shape = [None, 224, 224, 3] \n",
        "\n",
        "# Setup output shape of the model = amount of unique breeds\n",
        "out_shape = len(somedogs['breed'].unique())\n",
        "\n",
        "# Create early stopping (once the model stops improving, stop training) Patience is the number of improvements\n",
        "early_stopping = tf.keras.callbacks.EarlyStopping(monitor=\"val_accuracy\", patience = 4)\n",
        "\n",
        "# How many rounds should we get the model to look through the data?\n",
        "num_epochs = 25\n",
        "\n",
        "# Setup model URLs from TensorFlow Hub\n",
        "model_url = \"https://tfhub.dev/google/imagenet/mobilenet_v2_130_224/classification/5\""
      ]
    },
    {
      "cell_type": "markdown",
      "source": [
        "### First Model"
      ],
      "metadata": {
        "id": "HZ7IKcg4_Pdp"
      }
    },
    {
      "cell_type": "markdown",
      "source": [
        ""
      ],
      "metadata": {
        "id": "YsAAhkqeRdzo"
      }
    },
    {
      "cell_type": "code",
      "source": [
        "model = tf.keras.models.Sequential()\n",
        "model.add(keras.layers.Flatten())\n",
        "model.add(keras.layers.Dense(300, activation = 'relu'))\n",
        "model.add(keras.layers.Dense(100, activation = 'relu'))\n",
        "model.add(keras.layers.Dense(out_shape, activation = 'softmax'))\n",
        "model.build(in_shape)\n",
        "model.summary()"
      ],
      "metadata": {
        "id": "VHUtuWvGdji2",
        "colab": {
          "base_uri": "https://localhost:8080/"
        },
        "outputId": "3b1e820f-2fae-4ee3-cbd7-c8a853825a30"
      },
      "execution_count": null,
      "outputs": [
        {
          "output_type": "stream",
          "name": "stdout",
          "text": [
            "Model: \"sequential\"\n",
            "_________________________________________________________________\n",
            " Layer (type)                Output Shape              Param #   \n",
            "=================================================================\n",
            " flatten (Flatten)           (None, 150528)            0         \n",
            "                                                                 \n",
            " dense (Dense)               (None, 300)               45158700  \n",
            "                                                                 \n",
            " dense_1 (Dense)             (None, 100)               30100     \n",
            "                                                                 \n",
            " dense_2 (Dense)             (None, 20)                2020      \n",
            "                                                                 \n",
            "=================================================================\n",
            "Total params: 45,190,820\n",
            "Trainable params: 45,190,820\n",
            "Non-trainable params: 0\n",
            "_________________________________________________________________\n"
          ]
        }
      ]
    },
    {
      "cell_type": "code",
      "source": [
        "model.compile(loss = tf.keras.losses.CategoricalCrossentropy(),\n",
        "              optimizer = tf.keras.optimizers.Adam(),\n",
        "              metrics = ['accuracy']\n",
        "              )\n",
        "\n",
        "history = model.fit(x = train_data,\n",
        "          epochs = num_epochs,\n",
        "          validation_data = val_data,\n",
        "          validation_freq = 1, # check validation metrics every epoch\n",
        "          callbacks = early_stopping)"
      ],
      "metadata": {
        "colab": {
          "base_uri": "https://localhost:8080/"
        },
        "id": "DGfK7Z3-d9St",
        "outputId": "a9e967db-2db4-43a5-8b76-77b12c4439d8"
      },
      "execution_count": null,
      "outputs": [
        {
          "output_type": "stream",
          "name": "stdout",
          "text": [
            "Epoch 1/25\n",
            "36/36 [==============================] - 172s 5s/step - loss: 47.0531 - accuracy: 0.0455 - val_loss: 11.5407 - val_accuracy: 0.0591\n",
            "Epoch 2/25\n",
            "36/36 [==============================] - 7s 191ms/step - loss: 6.6041 - accuracy: 0.0726 - val_loss: 3.0012 - val_accuracy: 0.0550\n",
            "Epoch 3/25\n",
            "36/36 [==============================] - 7s 187ms/step - loss: 3.0001 - accuracy: 0.0472 - val_loss: 2.9962 - val_accuracy: 0.0489\n",
            "Epoch 4/25\n",
            "36/36 [==============================] - 7s 189ms/step - loss: 2.9947 - accuracy: 0.0455 - val_loss: 2.9971 - val_accuracy: 0.0468\n",
            "Epoch 5/25\n",
            "36/36 [==============================] - 9s 241ms/step - loss: 2.9943 - accuracy: 0.0717 - val_loss: 2.9962 - val_accuracy: 0.0509\n"
          ]
        }
      ]
    },
    {
      "cell_type": "code",
      "source": [
        "pd.DataFrame(history.history).plot(figsize = (8,5))\n",
        "pyplot.grid = (True)\n",
        "pyplot.gca().set_ylim(0,1)\n",
        "pyplot.show()"
      ],
      "metadata": {
        "colab": {
          "base_uri": "https://localhost:8080/",
          "height": 324
        },
        "id": "26pkxBq_c8lw",
        "outputId": "f3a20127-ce74-46a2-f529-780162587c55"
      },
      "execution_count": null,
      "outputs": [
        {
          "output_type": "display_data",
          "data": {
            "image/png": "[encoded data removed]",
            "text/plain": [
              "<Figure size 576x360 with 1 Axes>"
            ]
          },
          "metadata": {
            "needs_background": "light"
          }
        }
      ]
    },
    {
      "cell_type": "markdown",
      "source": [
        "A lame first attempt, but hey, it was my first Model! *#proud*"
      ],
      "metadata": {
        "id": "2j1pxm_KhscR"
      }
    },
    {
      "cell_type": "markdown",
      "source": [
        "### Second Model"
      ],
      "metadata": {
        "id": "X9ZSi7GWKQto"
      }
    },
    {
      "cell_type": "code",
      "source": [
        "model2 = tf.keras.models.Sequential()\n",
        "model2.add(hub.KerasLayer(model_url))\n",
        "model2.add(keras.layers.Dense(out_shape, activation = 'softmax'))\n",
        "model2.build(in_shape)\n",
        "model2.summary()"
      ],
      "metadata": {
        "colab": {
          "base_uri": "https://localhost:8080/"
        },
        "id": "ch8gQn5qaPc4",
        "outputId": "a7124047-ef5d-4f04-86d6-5e794afd28ea"
      },
      "execution_count": null,
      "outputs": [
        {
          "output_type": "stream",
          "name": "stdout",
          "text": [
            "Model: \"sequential_1\"\n",
            "_________________________________________________________________\n",
            " Layer (type)                Output Shape              Param #   \n",
            "=================================================================\n",
            " keras_layer (KerasLayer)    (None, 1001)              5432713   \n",
            "                                                                 \n",
            " dense_3 (Dense)             (None, 20)                20040     \n",
            "                                                                 \n",
            "=================================================================\n",
            "Total params: 5,452,753\n",
            "Trainable params: 20,040\n",
            "Non-trainable params: 5,432,713\n",
            "_________________________________________________________________\n"
          ]
        }
      ]
    },
    {
      "cell_type": "code",
      "source": [
        "model2.compile(loss = tf.keras.losses.CategoricalCrossentropy(),\n",
        "              optimizer = tf.keras.optimizers.Adam(),\n",
        "              metrics = [\"accuracy\"]\n",
        "              )\n",
        "\n",
        "history2 = model2.fit(x = train_data,\n",
        "          epochs = num_epochs,\n",
        "          validation_data = val_data,\n",
        "          validation_freq = 1, # check validation metrics every epoch\n",
        "          callbacks = early_stopping\n",
        "          )"
      ],
      "metadata": {
        "colab": {
          "base_uri": "https://localhost:8080/"
        },
        "id": "Gh687qKob8zP",
        "outputId": "b214d519-b8f1-447c-956c-e5f5b21a46a2"
      },
      "execution_count": null,
      "outputs": [
        {
          "output_type": "stream",
          "name": "stdout",
          "text": [
            "Epoch 1/25\n",
            "36/36 [==============================] - 16s 364ms/step - loss: 1.6718 - accuracy: 0.5389 - val_loss: 0.5133 - val_accuracy: 0.8758\n",
            "Epoch 2/25\n",
            "36/36 [==============================] - 12s 336ms/step - loss: 0.2627 - accuracy: 0.9379 - val_loss: 0.3293 - val_accuracy: 0.9043\n",
            "Epoch 3/25\n",
            "36/36 [==============================] - 10s 279ms/step - loss: 0.1363 - accuracy: 0.9781 - val_loss: 0.2907 - val_accuracy: 0.9104\n",
            "Epoch 4/25\n",
            "36/36 [==============================] - 12s 340ms/step - loss: 0.0850 - accuracy: 0.9948 - val_loss: 0.2724 - val_accuracy: 0.9145\n",
            "Epoch 5/25\n",
            "36/36 [==============================] - 10s 274ms/step - loss: 0.0602 - accuracy: 0.9983 - val_loss: 0.2612 - val_accuracy: 0.9124\n",
            "Epoch 6/25\n",
            "36/36 [==============================] - 13s 353ms/step - loss: 0.0450 - accuracy: 0.9991 - val_loss: 0.2559 - val_accuracy: 0.9267\n",
            "Epoch 7/25\n",
            "36/36 [==============================] - 10s 278ms/step - loss: 0.0356 - accuracy: 0.9991 - val_loss: 0.2521 - val_accuracy: 0.9206\n",
            "Epoch 8/25\n",
            "36/36 [==============================] - 12s 336ms/step - loss: 0.0285 - accuracy: 1.0000 - val_loss: 0.2483 - val_accuracy: 0.9226\n",
            "Epoch 9/25\n",
            "36/36 [==============================] - 10s 278ms/step - loss: 0.0242 - accuracy: 1.0000 - val_loss: 0.2442 - val_accuracy: 0.9267\n",
            "Epoch 10/25\n",
            "36/36 [==============================] - 10s 264ms/step - loss: 0.0206 - accuracy: 1.0000 - val_loss: 0.2445 - val_accuracy: 0.9246\n"
          ]
        }
      ]
    },
    {
      "cell_type": "code",
      "source": [
        "pd.DataFrame(history2.history).plot(figsize = (8,5))\n",
        "pyplot.grid = (True)\n",
        "pyplot.gca().set_ylim(0,1)\n",
        "pyplot.show()"
      ],
      "metadata": {
        "id": "blFSP-3jAJw4",
        "colab": {
          "base_uri": "https://localhost:8080/",
          "height": 324
        },
        "outputId": "e39ac841-1ab5-4cef-a6b3-7a36518aa69b"
      },
      "execution_count": null,
      "outputs": [
        {
          "output_type": "display_data",
          "data": {
            "image/png": "[encoded data removed]",
            "text/plain": [
              "<Figure size 576x360 with 1 Axes>"
            ]
          },
          "metadata": {
            "needs_background": "light"
          }
        }
      ]
    },
    {
      "cell_type": "markdown",
      "source": [
        "Accuracy is at 80%! But the validation accuracy is only 57%"
      ],
      "metadata": {
        "id": "3GmvnNAY9m0A"
      }
    },
    {
      "cell_type": "markdown",
      "source": [
        "### Third Model"
      ],
      "metadata": {
        "id": "yg9ttL0gKuMn"
      }
    },
    {
      "cell_type": "code",
      "source": [
        "model3 = tf.keras.models.Sequential()\n",
        "model3.add(keras.layers.Flatten())\n",
        "model3.add(keras.layers.Dense(500, activation = 'relu'))\n",
        "model3.add(keras.layers.Dense(250, activation = 'relu'))\n",
        "model3.add(keras.layers.Dense(out_shape, activation = 'softmax'))\n",
        "model3.build(in_shape)\n",
        "model3.summary()"
      ],
      "metadata": {
        "colab": {
          "base_uri": "https://localhost:8080/"
        },
        "id": "pCY6cAPiKs7H",
        "outputId": "f25fe2db-e494-4570-d6cc-d05bb86b15b8"
      },
      "execution_count": null,
      "outputs": [
        {
          "output_type": "stream",
          "name": "stdout",
          "text": [
            "Model: \"sequential_3\"\n",
            "_________________________________________________________________\n",
            " Layer (type)                Output Shape              Param #   \n",
            "=================================================================\n",
            " flatten_1 (Flatten)         (None, 150528)            0         \n",
            "                                                                 \n",
            " dense_7 (Dense)             (None, 500)               75264500  \n",
            "                                                                 \n",
            " dense_8 (Dense)             (None, 250)               125250    \n",
            "                                                                 \n",
            " dense_9 (Dense)             (None, 20)                5020      \n",
            "                                                                 \n",
            "=================================================================\n",
            "Total params: 75,394,770\n",
            "Trainable params: 75,394,770\n",
            "Non-trainable params: 0\n",
            "_________________________________________________________________\n"
          ]
        }
      ]
    },
    {
      "cell_type": "code",
      "source": [
        "model3.compile(loss = tf.keras.losses.CategoricalCrossentropy(),\n",
        "              optimizer = tf.keras.optimizers.Adam(),\n",
        "              metrics = [\"accuracy\"]\n",
        "              )\n",
        "\n",
        "history3 = model3.fit(x = train_data,\n",
        "          epochs = num_epochs,\n",
        "          validation_data = val_data,\n",
        "          validation_freq = 1, # check validation metrics every epoch\n",
        "          callbacks = early_stopping)"
      ],
      "metadata": {
        "colab": {
          "base_uri": "https://localhost:8080/"
        },
        "id": "2PkYNd5pKt2e",
        "outputId": "c5baf44f-a312-4a36-c295-696d0bec72c6"
      },
      "execution_count": null,
      "outputs": [
        {
          "output_type": "stream",
          "name": "stdout",
          "text": [
            "Epoch 1/25\n",
            "36/36 [==============================] - 11s 284ms/step - loss: 72.7996 - accuracy: 0.0604 - val_loss: 25.2776 - val_accuracy: 0.0448\n",
            "Epoch 2/25\n",
            "36/36 [==============================] - 9s 252ms/step - loss: 10.5560 - accuracy: 0.0910 - val_loss: 5.4395 - val_accuracy: 0.0530\n",
            "Epoch 3/25\n",
            "36/36 [==============================] - 9s 236ms/step - loss: 4.3165 - accuracy: 0.1260 - val_loss: 5.1955 - val_accuracy: 0.0835\n",
            "Epoch 4/25\n",
            "36/36 [==============================] - 9s 256ms/step - loss: 3.3735 - accuracy: 0.1662 - val_loss: 3.5422 - val_accuracy: 0.1181\n",
            "Epoch 5/25\n",
            "36/36 [==============================] - 9s 261ms/step - loss: 2.9387 - accuracy: 0.1899 - val_loss: 3.4822 - val_accuracy: 0.0916\n",
            "Epoch 6/25\n",
            "36/36 [==============================] - 9s 258ms/step - loss: 3.0331 - accuracy: 0.2047 - val_loss: 3.9576 - val_accuracy: 0.0896\n",
            "Epoch 7/25\n",
            "36/36 [==============================] - 9s 263ms/step - loss: 2.6598 - accuracy: 0.2310 - val_loss: 3.7385 - val_accuracy: 0.0754\n",
            "Epoch 8/25\n",
            "36/36 [==============================] - 9s 258ms/step - loss: 2.3570 - accuracy: 0.3141 - val_loss: 3.9703 - val_accuracy: 0.1181\n"
          ]
        }
      ]
    },
    {
      "cell_type": "code",
      "source": [
        "pd.DataFrame(history3.history).plot(figsize = (8,5))\n",
        "pyplot.grid = (True)\n",
        "pyplot.gca().set_ylim(0,1)\n",
        "pyplot.show()"
      ],
      "metadata": {
        "id": "AAm4O9OMdJaR",
        "colab": {
          "base_uri": "https://localhost:8080/",
          "height": 324
        },
        "outputId": "dab5f189-fa88-4171-adce-1de1710e4bca"
      },
      "execution_count": null,
      "outputs": [
        {
          "output_type": "display_data",
          "data": {
            "image/png": "[encoded data removed]",
            "text/plain": [
              "<Figure size 576x360 with 1 Axes>"
            ]
          },
          "metadata": {
            "needs_background": "light"
          }
        }
      ]
    },
    {
      "cell_type": "code",
      "source": [
        "#Save the best model for prediction\n",
        "model2.save(\"bestmodel_mobilenet\")"
      ],
      "metadata": {
        "id": "JlO8WshJagEj",
        "colab": {
          "base_uri": "https://localhost:8080/"
        },
        "outputId": "a70f5e75-4c49-4d6e-a047-80ecc8821111"
      },
      "execution_count": null,
      "outputs": [
        {
          "output_type": "stream",
          "name": "stdout",
          "text": [
            "INFO:tensorflow:Assets written to: bestmodel_mobilenet/assets\n"
          ]
        },
        {
          "output_type": "stream",
          "name": "stderr",
          "text": [
            "INFO:tensorflow:Assets written to: bestmodel_mobilenet/assets\n"
          ]
        }
      ]
    },
    {
      "cell_type": "markdown",
      "source": [
        "### Testing the best model"
      ],
      "metadata": {
        "id": "MqYB3hCxwQ6I"
      }
    },
    {
      "cell_type": "markdown",
      "source": [
        "Testing the best model with a random picture (my dog Ozzy)"
      ],
      "metadata": {
        "id": "XjH6VOw1wJwW"
      }
    },
    {
      "cell_type": "code",
      "source": [
        "#load the model\n",
        "model = load_model('/content/drive/My Drive/dog-breeds/20211215-20561639601788-20-breeds.h5')\n",
        " \n",
        "#get the image of the dog for prediction\n",
        "dog_img_path = '/content/drive/MyDrive/dog-breeds/ozzy.jpg'\n",
        "#read the image file and convert into numeric format\n",
        "#resize all images to one dimension i.e. 224x224\n",
        "dog_img_array = cv2.resize(cv2.imread(dog_img_path,cv2.IMREAD_COLOR),((224,224)))\n",
        "#scale array into the range of -1 to 1.\n",
        "#expand the dimension on the axis 0 and normalize the array values\n",
        "dog_img_array = preprocess_input(np.expand_dims(np.array(dog_img_array[...,::-1].astype(np.float32)).copy(), axis=0))\n",
        " \n",
        "#feed the model with the image array for prediction\n",
        "pred_val = model.predict(np.array(dog_img_array,dtype=\"float32\"))\n",
        " \n",
        "#display the image of dog\n",
        "#cv2.imshow(cv2.resize(cv2.imread(dog_img_path,cv2.IMREAD_COLOR),((224,224)))) \n",
        "Image(cv2.resize(cv2.imread(dog_img_path,cv2.IMREAD_COLOR),((224,224)))) \n",
        " \n",
        "#display the predicted breed of dog\n",
        "pred_breed = sorted(somedogs['breed'])[np.argmax(pred_val)]\n",
        "print(\"This Dog is a:\",pred_breed)"
      ],
      "metadata": {
        "id": "G2Jt6WVYdKK8",
        "colab": {
          "base_uri": "https://localhost:8080/"
        },
        "outputId": "91ad7ab2-fd64-4708-e262-46037f42500d"
      },
      "execution_count": null,
      "outputs": [
        {
          "output_type": "stream",
          "name": "stdout",
          "text": [
            "Loading saved model from: /content/drive/My Drive/dog-breeds/20211215-20561639601788-20-breeds.h5\n",
            "This Dog is a: basset\n"
          ]
        }
      ]
    }
  ],
  "metadata": {
    "accelerator": "GPU",
    "colab": {
      "collapsed_sections": [],
      "name": "Using Batches -unfinished-.ipynb",
      "provenance": [],
      "toc_visible": true,
      "include_colab_link": true
    },
    "kernelspec": {
      "display_name": "Python 3 (ipykernel)",
      "language": "python",
      "name": "python3"
    },
    "language_info": {
      "codemirror_mode": {
        "name": "ipython",
        "version": 3
      },
      "file_extension": ".py",
      "mimetype": "text/x-python",
      "name": "python",
      "nbconvert_exporter": "python",
      "pygments_lexer": "ipython3",
      "version": "3.9.7"
    },
    "toc": {
      "base_numbering": 1,
      "nav_menu": {},
      "number_sections": true,
      "sideBar": true,
      "skip_h1_title": true,
      "title_cell": "Table of Contents",
      "title_sidebar": "Contents",
      "toc_cell": false,
      "toc_position": {},
      "toc_section_display": true,
      "toc_window_display": true
    }
  },
  "nbformat": 4,
  "nbformat_minor": 0
}