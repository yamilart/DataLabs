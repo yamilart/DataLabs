{
 "cells": [
  {
   "cell_type": "markdown",
   "id": "6be82846",
   "metadata": {},
   "source": [
    "# Lab | Customer Analysis Round 1"
   ]
  },
  {
   "cell_type": "markdown",
   "id": "09cba8fb",
   "metadata": {},
   "source": [
    "### First Step, importing and opening files"
   ]
  },
  {
   "cell_type": "code",
   "execution_count": 1,
   "id": "5d281ea3",
   "metadata": {},
   "outputs": [],
   "source": [
    "import numpy as np\n",
    "import pandas as pd"
   ]
  },
  {
   "cell_type": "code",
   "execution_count": 2,
   "id": "cb07d7b2",
   "metadata": {},
   "outputs": [
    {
     "name": "stdout",
     "output_type": "stream",
     "text": [
      "Case Study \"Healthcare for all\".ipynb \u001b[34mIronYamila\u001b[m\u001b[m\r\n",
      "\u001b[34mCustomer Analysis Round 1\u001b[m\u001b[m             Untitled.ipynb\r\n",
      "\u001b[34mHealthcare\u001b[m\u001b[m                            \u001b[34mdata_class_labs\u001b[m\u001b[m\r\n",
      "\u001b[34mIronGloria\u001b[m\u001b[m\r\n"
     ]
    }
   ],
   "source": [
    "!ls"
   ]
  },
  {
   "cell_type": "code",
   "execution_count": 3,
   "id": "99bea746",
   "metadata": {},
   "outputs": [
    {
     "name": "stdout",
     "output_type": "stream",
     "text": [
      "/Users/ymrteran/Documents/GitHub/Ironhack Labs/Customer Analysis Round 1\n"
     ]
    }
   ],
   "source": [
    "cd Customer Analysis Round 1"
   ]
  },
  {
   "cell_type": "code",
   "execution_count": 4,
   "id": "25baf81d",
   "metadata": {},
   "outputs": [],
   "source": [
    "file1 = pd.read_excel('file1.xlsx')"
   ]
  },
  {
   "cell_type": "code",
   "execution_count": 5,
   "id": "fb826346",
   "metadata": {},
   "outputs": [],
   "source": [
    "file2 = pd.read_excel('file2.xlsx')"
   ]
  },
  {
   "cell_type": "code",
   "execution_count": 6,
   "id": "395d1f2d",
   "metadata": {},
   "outputs": [],
   "source": [
    "file3 = pd.read_excel('file3.xlsx')"
   ]
  },
  {
   "cell_type": "markdown",
   "id": "b63ded7a",
   "metadata": {},
   "source": [
    "### Checking the files info to rearrange and rename columns as needed"
   ]
  },
  {
   "cell_type": "code",
   "execution_count": 7,
   "id": "07a62247",
   "metadata": {},
   "outputs": [
    {
     "name": "stdout",
     "output_type": "stream",
     "text": [
      "<class 'pandas.core.frame.DataFrame'>\n",
      "RangeIndex: 1071 entries, 0 to 1070\n",
      "Data columns (total 11 columns):\n",
      " #   Column                     Non-Null Count  Dtype  \n",
      "---  ------                     --------------  -----  \n",
      " 0   Customer                   1071 non-null   object \n",
      " 1   ST                         1071 non-null   object \n",
      " 2   GENDER                     954 non-null    object \n",
      " 3   Education                  1071 non-null   object \n",
      " 4   Customer Lifetime Value    1068 non-null   object \n",
      " 5   Income                     1071 non-null   int64  \n",
      " 6   Monthly Premium Auto       1071 non-null   int64  \n",
      " 7   Number of Open Complaints  1071 non-null   object \n",
      " 8   Policy Type                1071 non-null   object \n",
      " 9   Vehicle Class              1071 non-null   object \n",
      " 10  Total Claim Amount         1071 non-null   float64\n",
      "dtypes: float64(1), int64(2), object(8)\n",
      "memory usage: 92.2+ KB\n"
     ]
    }
   ],
   "source": [
    "file1.info()"
   ]
  },
  {
   "cell_type": "code",
   "execution_count": 8,
   "id": "00d917a9",
   "metadata": {},
   "outputs": [],
   "source": [
    "file1 = file1.rename(columns={\"ST\": \"State\", \"GENDER\": \"Gender\"})"
   ]
  },
  {
   "cell_type": "code",
   "execution_count": 9,
   "id": "d3454397",
   "metadata": {},
   "outputs": [
    {
     "name": "stdout",
     "output_type": "stream",
     "text": [
      "<class 'pandas.core.frame.DataFrame'>\n",
      "RangeIndex: 1071 entries, 0 to 1070\n",
      "Data columns (total 11 columns):\n",
      " #   Column                     Non-Null Count  Dtype  \n",
      "---  ------                     --------------  -----  \n",
      " 0   Customer                   1071 non-null   object \n",
      " 1   State                      1071 non-null   object \n",
      " 2   Gender                     954 non-null    object \n",
      " 3   Education                  1071 non-null   object \n",
      " 4   Customer Lifetime Value    1068 non-null   object \n",
      " 5   Income                     1071 non-null   int64  \n",
      " 6   Monthly Premium Auto       1071 non-null   int64  \n",
      " 7   Number of Open Complaints  1071 non-null   object \n",
      " 8   Policy Type                1071 non-null   object \n",
      " 9   Vehicle Class              1071 non-null   object \n",
      " 10  Total Claim Amount         1071 non-null   float64\n",
      "dtypes: float64(1), int64(2), object(8)\n",
      "memory usage: 92.2+ KB\n"
     ]
    }
   ],
   "source": [
    "file1.info()"
   ]
  },
  {
   "cell_type": "code",
   "execution_count": 10,
   "id": "a12e1838",
   "metadata": {},
   "outputs": [
    {
     "name": "stdout",
     "output_type": "stream",
     "text": [
      "<class 'pandas.core.frame.DataFrame'>\n",
      "RangeIndex: 996 entries, 0 to 995\n",
      "Data columns (total 11 columns):\n",
      " #   Column                     Non-Null Count  Dtype  \n",
      "---  ------                     --------------  -----  \n",
      " 0   Customer                   996 non-null    object \n",
      " 1   ST                         996 non-null    object \n",
      " 2   GENDER                     991 non-null    object \n",
      " 3   Education                  996 non-null    object \n",
      " 4   Customer Lifetime Value    992 non-null    object \n",
      " 5   Income                     996 non-null    int64  \n",
      " 6   Monthly Premium Auto       996 non-null    int64  \n",
      " 7   Number of Open Complaints  996 non-null    object \n",
      " 8   Total Claim Amount         996 non-null    float64\n",
      " 9   Policy Type                996 non-null    object \n",
      " 10  Vehicle Class              996 non-null    object \n",
      "dtypes: float64(1), int64(2), object(8)\n",
      "memory usage: 85.7+ KB\n"
     ]
    }
   ],
   "source": [
    "file2.info()"
   ]
  },
  {
   "cell_type": "code",
   "execution_count": 11,
   "id": "8cba4488",
   "metadata": {},
   "outputs": [],
   "source": [
    "file2 = file2.rename(columns={\"ST\": \"State\", \"GENDER\": \"Gender\"})"
   ]
  },
  {
   "cell_type": "code",
   "execution_count": 12,
   "id": "62990046",
   "metadata": {},
   "outputs": [
    {
     "name": "stdout",
     "output_type": "stream",
     "text": [
      "<class 'pandas.core.frame.DataFrame'>\n",
      "RangeIndex: 996 entries, 0 to 995\n",
      "Data columns (total 11 columns):\n",
      " #   Column                     Non-Null Count  Dtype  \n",
      "---  ------                     --------------  -----  \n",
      " 0   Customer                   996 non-null    object \n",
      " 1   State                      996 non-null    object \n",
      " 2   Gender                     991 non-null    object \n",
      " 3   Education                  996 non-null    object \n",
      " 4   Customer Lifetime Value    992 non-null    object \n",
      " 5   Income                     996 non-null    int64  \n",
      " 6   Monthly Premium Auto       996 non-null    int64  \n",
      " 7   Number of Open Complaints  996 non-null    object \n",
      " 8   Total Claim Amount         996 non-null    float64\n",
      " 9   Policy Type                996 non-null    object \n",
      " 10  Vehicle Class              996 non-null    object \n",
      "dtypes: float64(1), int64(2), object(8)\n",
      "memory usage: 85.7+ KB\n"
     ]
    }
   ],
   "source": [
    "file2.info()"
   ]
  },
  {
   "cell_type": "code",
   "execution_count": 13,
   "id": "245abc1b",
   "metadata": {},
   "outputs": [],
   "source": [
    "file2 = file2.reindex(columns = [\"Customer\",\"State\",\"Gender\",\"Education\",\"Customer Lifetime Value\",\"Income\",\"Monthly Premium Auto\",\"Number of Open Complaints\",\"Policy Type\",\"Vehicle Class\",\"Total Claim Amount\"])"
   ]
  },
  {
   "cell_type": "code",
   "execution_count": 14,
   "id": "33c24436",
   "metadata": {},
   "outputs": [
    {
     "name": "stdout",
     "output_type": "stream",
     "text": [
      "<class 'pandas.core.frame.DataFrame'>\n",
      "RangeIndex: 996 entries, 0 to 995\n",
      "Data columns (total 11 columns):\n",
      " #   Column                     Non-Null Count  Dtype  \n",
      "---  ------                     --------------  -----  \n",
      " 0   Customer                   996 non-null    object \n",
      " 1   State                      996 non-null    object \n",
      " 2   Gender                     991 non-null    object \n",
      " 3   Education                  996 non-null    object \n",
      " 4   Customer Lifetime Value    992 non-null    object \n",
      " 5   Income                     996 non-null    int64  \n",
      " 6   Monthly Premium Auto       996 non-null    int64  \n",
      " 7   Number of Open Complaints  996 non-null    object \n",
      " 8   Policy Type                996 non-null    object \n",
      " 9   Vehicle Class              996 non-null    object \n",
      " 10  Total Claim Amount         996 non-null    float64\n",
      "dtypes: float64(1), int64(2), object(8)\n",
      "memory usage: 85.7+ KB\n"
     ]
    }
   ],
   "source": [
    "file2.info()"
   ]
  },
  {
   "cell_type": "code",
   "execution_count": 15,
   "id": "44d81938",
   "metadata": {},
   "outputs": [
    {
     "name": "stdout",
     "output_type": "stream",
     "text": [
      "<class 'pandas.core.frame.DataFrame'>\n",
      "RangeIndex: 7070 entries, 0 to 7069\n",
      "Data columns (total 11 columns):\n",
      " #   Column                     Non-Null Count  Dtype  \n",
      "---  ------                     --------------  -----  \n",
      " 0   Customer                   7070 non-null   object \n",
      " 1   State                      7070 non-null   object \n",
      " 2   Customer Lifetime Value    7070 non-null   float64\n",
      " 3   Education                  7070 non-null   object \n",
      " 4   Gender                     7070 non-null   object \n",
      " 5   Income                     7070 non-null   int64  \n",
      " 6   Monthly Premium Auto       7070 non-null   int64  \n",
      " 7   Number of Open Complaints  7070 non-null   int64  \n",
      " 8   Policy Type                7070 non-null   object \n",
      " 9   Total Claim Amount         7070 non-null   float64\n",
      " 10  Vehicle Class              7070 non-null   object \n",
      "dtypes: float64(2), int64(3), object(6)\n",
      "memory usage: 607.7+ KB\n"
     ]
    }
   ],
   "source": [
    "file3.info()"
   ]
  },
  {
   "cell_type": "code",
   "execution_count": 16,
   "id": "516b176b",
   "metadata": {},
   "outputs": [],
   "source": [
    "file3 = file3.reindex(columns = [\"Customer\",\"State\",\"Gender\",\"Education\",\"Customer Lifetime Value\",\"Income\",\"Monthly Premium Auto\",\"Number of Open Complaints\",\"Policy Type\",\"Vehicle Class\",\"Total Claim Amount\"])"
   ]
  },
  {
   "cell_type": "code",
   "execution_count": 17,
   "id": "34ffc75e",
   "metadata": {},
   "outputs": [
    {
     "name": "stdout",
     "output_type": "stream",
     "text": [
      "<class 'pandas.core.frame.DataFrame'>\n",
      "RangeIndex: 7070 entries, 0 to 7069\n",
      "Data columns (total 11 columns):\n",
      " #   Column                     Non-Null Count  Dtype  \n",
      "---  ------                     --------------  -----  \n",
      " 0   Customer                   7070 non-null   object \n",
      " 1   State                      7070 non-null   object \n",
      " 2   Gender                     7070 non-null   object \n",
      " 3   Education                  7070 non-null   object \n",
      " 4   Customer Lifetime Value    7070 non-null   float64\n",
      " 5   Income                     7070 non-null   int64  \n",
      " 6   Monthly Premium Auto       7070 non-null   int64  \n",
      " 7   Number of Open Complaints  7070 non-null   int64  \n",
      " 8   Policy Type                7070 non-null   object \n",
      " 9   Vehicle Class              7070 non-null   object \n",
      " 10  Total Claim Amount         7070 non-null   float64\n",
      "dtypes: float64(2), int64(3), object(6)\n",
      "memory usage: 607.7+ KB\n"
     ]
    }
   ],
   "source": [
    "file3.info()"
   ]
  },
  {
   "cell_type": "markdown",
   "id": "16250efc",
   "metadata": {},
   "source": [
    "### Creating the dataframe, concatenating and reindexing"
   ]
  },
  {
   "cell_type": "code",
   "execution_count": 18,
   "id": "24a42bff",
   "metadata": {},
   "outputs": [],
   "source": [
    "columns=file1.columns"
   ]
  },
  {
   "cell_type": "code",
   "execution_count": 19,
   "id": "8e200929",
   "metadata": {},
   "outputs": [],
   "source": [
    "data=pd.DataFrame(columns=columns)"
   ]
  },
  {
   "cell_type": "code",
   "execution_count": 20,
   "id": "e5913524",
   "metadata": {},
   "outputs": [
    {
     "data": {
      "text/html": [
       "<div>\n",
       "<style scoped>\n",
       "    .dataframe tbody tr th:only-of-type {\n",
       "        vertical-align: middle;\n",
       "    }\n",
       "\n",
       "    .dataframe tbody tr th {\n",
       "        vertical-align: top;\n",
       "    }\n",
       "\n",
       "    .dataframe thead th {\n",
       "        text-align: right;\n",
       "    }\n",
       "</style>\n",
       "<table border=\"1\" class=\"dataframe\">\n",
       "  <thead>\n",
       "    <tr style=\"text-align: right;\">\n",
       "      <th></th>\n",
       "      <th>Customer</th>\n",
       "      <th>State</th>\n",
       "      <th>Gender</th>\n",
       "      <th>Education</th>\n",
       "      <th>Customer Lifetime Value</th>\n",
       "      <th>Income</th>\n",
       "      <th>Monthly Premium Auto</th>\n",
       "      <th>Number of Open Complaints</th>\n",
       "      <th>Policy Type</th>\n",
       "      <th>Vehicle Class</th>\n",
       "      <th>Total Claim Amount</th>\n",
       "    </tr>\n",
       "  </thead>\n",
       "  <tbody>\n",
       "  </tbody>\n",
       "</table>\n",
       "</div>"
      ],
      "text/plain": [
       "Empty DataFrame\n",
       "Columns: [Customer, State, Gender, Education, Customer Lifetime Value, Income, Monthly Premium Auto, Number of Open Complaints, Policy Type, Vehicle Class, Total Claim Amount]\n",
       "Index: []"
      ]
     },
     "execution_count": 20,
     "metadata": {},
     "output_type": "execute_result"
    }
   ],
   "source": [
    "data"
   ]
  },
  {
   "cell_type": "code",
   "execution_count": 21,
   "id": "cf0d5e4d",
   "metadata": {},
   "outputs": [],
   "source": [
    "data=pd.concat([data,file1,file2,file3],axis=0)"
   ]
  },
  {
   "cell_type": "code",
   "execution_count": 22,
   "id": "df2f290f",
   "metadata": {},
   "outputs": [
    {
     "data": {
      "text/html": [
       "<div>\n",
       "<style scoped>\n",
       "    .dataframe tbody tr th:only-of-type {\n",
       "        vertical-align: middle;\n",
       "    }\n",
       "\n",
       "    .dataframe tbody tr th {\n",
       "        vertical-align: top;\n",
       "    }\n",
       "\n",
       "    .dataframe thead th {\n",
       "        text-align: right;\n",
       "    }\n",
       "</style>\n",
       "<table border=\"1\" class=\"dataframe\">\n",
       "  <thead>\n",
       "    <tr style=\"text-align: right;\">\n",
       "      <th></th>\n",
       "      <th>Customer</th>\n",
       "      <th>State</th>\n",
       "      <th>Gender</th>\n",
       "      <th>Education</th>\n",
       "      <th>Customer Lifetime Value</th>\n",
       "      <th>Income</th>\n",
       "      <th>Monthly Premium Auto</th>\n",
       "      <th>Number of Open Complaints</th>\n",
       "      <th>Policy Type</th>\n",
       "      <th>Vehicle Class</th>\n",
       "      <th>Total Claim Amount</th>\n",
       "    </tr>\n",
       "  </thead>\n",
       "  <tbody>\n",
       "    <tr>\n",
       "      <th>0</th>\n",
       "      <td>RB50392</td>\n",
       "      <td>Washington</td>\n",
       "      <td>NaN</td>\n",
       "      <td>Master</td>\n",
       "      <td>NaN</td>\n",
       "      <td>0</td>\n",
       "      <td>1000</td>\n",
       "      <td>1/0/00</td>\n",
       "      <td>Personal Auto</td>\n",
       "      <td>Four-Door Car</td>\n",
       "      <td>2.704934</td>\n",
       "    </tr>\n",
       "    <tr>\n",
       "      <th>1</th>\n",
       "      <td>QZ44356</td>\n",
       "      <td>Arizona</td>\n",
       "      <td>F</td>\n",
       "      <td>Bachelor</td>\n",
       "      <td>697953.59%</td>\n",
       "      <td>0</td>\n",
       "      <td>94</td>\n",
       "      <td>1/0/00</td>\n",
       "      <td>Personal Auto</td>\n",
       "      <td>Four-Door Car</td>\n",
       "      <td>1131.464935</td>\n",
       "    </tr>\n",
       "    <tr>\n",
       "      <th>2</th>\n",
       "      <td>AI49188</td>\n",
       "      <td>Nevada</td>\n",
       "      <td>F</td>\n",
       "      <td>Bachelor</td>\n",
       "      <td>1288743.17%</td>\n",
       "      <td>48767</td>\n",
       "      <td>108</td>\n",
       "      <td>1/0/00</td>\n",
       "      <td>Personal Auto</td>\n",
       "      <td>Two-Door Car</td>\n",
       "      <td>566.472247</td>\n",
       "    </tr>\n",
       "    <tr>\n",
       "      <th>3</th>\n",
       "      <td>WW63253</td>\n",
       "      <td>California</td>\n",
       "      <td>M</td>\n",
       "      <td>Bachelor</td>\n",
       "      <td>764586.18%</td>\n",
       "      <td>0</td>\n",
       "      <td>106</td>\n",
       "      <td>1/0/00</td>\n",
       "      <td>Corporate Auto</td>\n",
       "      <td>SUV</td>\n",
       "      <td>529.881344</td>\n",
       "    </tr>\n",
       "    <tr>\n",
       "      <th>4</th>\n",
       "      <td>GA49547</td>\n",
       "      <td>Washington</td>\n",
       "      <td>M</td>\n",
       "      <td>High School or Below</td>\n",
       "      <td>536307.65%</td>\n",
       "      <td>36357</td>\n",
       "      <td>68</td>\n",
       "      <td>1/0/00</td>\n",
       "      <td>Personal Auto</td>\n",
       "      <td>Four-Door Car</td>\n",
       "      <td>17.269323</td>\n",
       "    </tr>\n",
       "    <tr>\n",
       "      <th>...</th>\n",
       "      <td>...</td>\n",
       "      <td>...</td>\n",
       "      <td>...</td>\n",
       "      <td>...</td>\n",
       "      <td>...</td>\n",
       "      <td>...</td>\n",
       "      <td>...</td>\n",
       "      <td>...</td>\n",
       "      <td>...</td>\n",
       "      <td>...</td>\n",
       "      <td>...</td>\n",
       "    </tr>\n",
       "    <tr>\n",
       "      <th>7065</th>\n",
       "      <td>LA72316</td>\n",
       "      <td>California</td>\n",
       "      <td>M</td>\n",
       "      <td>Bachelor</td>\n",
       "      <td>23405.98798</td>\n",
       "      <td>71941</td>\n",
       "      <td>73</td>\n",
       "      <td>0</td>\n",
       "      <td>Personal Auto</td>\n",
       "      <td>Four-Door Car</td>\n",
       "      <td>198.234764</td>\n",
       "    </tr>\n",
       "    <tr>\n",
       "      <th>7066</th>\n",
       "      <td>PK87824</td>\n",
       "      <td>California</td>\n",
       "      <td>F</td>\n",
       "      <td>College</td>\n",
       "      <td>3096.511217</td>\n",
       "      <td>21604</td>\n",
       "      <td>79</td>\n",
       "      <td>0</td>\n",
       "      <td>Corporate Auto</td>\n",
       "      <td>Four-Door Car</td>\n",
       "      <td>379.200000</td>\n",
       "    </tr>\n",
       "    <tr>\n",
       "      <th>7067</th>\n",
       "      <td>TD14365</td>\n",
       "      <td>California</td>\n",
       "      <td>M</td>\n",
       "      <td>Bachelor</td>\n",
       "      <td>8163.890428</td>\n",
       "      <td>0</td>\n",
       "      <td>85</td>\n",
       "      <td>3</td>\n",
       "      <td>Corporate Auto</td>\n",
       "      <td>Four-Door Car</td>\n",
       "      <td>790.784983</td>\n",
       "    </tr>\n",
       "    <tr>\n",
       "      <th>7068</th>\n",
       "      <td>UP19263</td>\n",
       "      <td>California</td>\n",
       "      <td>M</td>\n",
       "      <td>College</td>\n",
       "      <td>7524.442436</td>\n",
       "      <td>21941</td>\n",
       "      <td>96</td>\n",
       "      <td>0</td>\n",
       "      <td>Personal Auto</td>\n",
       "      <td>Four-Door Car</td>\n",
       "      <td>691.200000</td>\n",
       "    </tr>\n",
       "    <tr>\n",
       "      <th>7069</th>\n",
       "      <td>Y167826</td>\n",
       "      <td>California</td>\n",
       "      <td>M</td>\n",
       "      <td>College</td>\n",
       "      <td>2611.836866</td>\n",
       "      <td>0</td>\n",
       "      <td>77</td>\n",
       "      <td>0</td>\n",
       "      <td>Corporate Auto</td>\n",
       "      <td>Two-Door Car</td>\n",
       "      <td>369.600000</td>\n",
       "    </tr>\n",
       "  </tbody>\n",
       "</table>\n",
       "<p>9137 rows × 11 columns</p>\n",
       "</div>"
      ],
      "text/plain": [
       "     Customer       State Gender             Education  \\\n",
       "0     RB50392  Washington    NaN                Master   \n",
       "1     QZ44356     Arizona      F              Bachelor   \n",
       "2     AI49188      Nevada      F              Bachelor   \n",
       "3     WW63253  California      M              Bachelor   \n",
       "4     GA49547  Washington      M  High School or Below   \n",
       "...       ...         ...    ...                   ...   \n",
       "7065  LA72316  California      M              Bachelor   \n",
       "7066  PK87824  California      F               College   \n",
       "7067  TD14365  California      M              Bachelor   \n",
       "7068  UP19263  California      M               College   \n",
       "7069  Y167826  California      M               College   \n",
       "\n",
       "     Customer Lifetime Value Income Monthly Premium Auto  \\\n",
       "0                        NaN      0                 1000   \n",
       "1                 697953.59%      0                   94   \n",
       "2                1288743.17%  48767                  108   \n",
       "3                 764586.18%      0                  106   \n",
       "4                 536307.65%  36357                   68   \n",
       "...                      ...    ...                  ...   \n",
       "7065             23405.98798  71941                   73   \n",
       "7066             3096.511217  21604                   79   \n",
       "7067             8163.890428      0                   85   \n",
       "7068             7524.442436  21941                   96   \n",
       "7069             2611.836866      0                   77   \n",
       "\n",
       "     Number of Open Complaints     Policy Type  Vehicle Class  \\\n",
       "0                       1/0/00   Personal Auto  Four-Door Car   \n",
       "1                       1/0/00   Personal Auto  Four-Door Car   \n",
       "2                       1/0/00   Personal Auto   Two-Door Car   \n",
       "3                       1/0/00  Corporate Auto            SUV   \n",
       "4                       1/0/00   Personal Auto  Four-Door Car   \n",
       "...                        ...             ...            ...   \n",
       "7065                         0   Personal Auto  Four-Door Car   \n",
       "7066                         0  Corporate Auto  Four-Door Car   \n",
       "7067                         3  Corporate Auto  Four-Door Car   \n",
       "7068                         0   Personal Auto  Four-Door Car   \n",
       "7069                         0  Corporate Auto   Two-Door Car   \n",
       "\n",
       "      Total Claim Amount  \n",
       "0               2.704934  \n",
       "1            1131.464935  \n",
       "2             566.472247  \n",
       "3             529.881344  \n",
       "4              17.269323  \n",
       "...                  ...  \n",
       "7065          198.234764  \n",
       "7066          379.200000  \n",
       "7067          790.784983  \n",
       "7068          691.200000  \n",
       "7069          369.600000  \n",
       "\n",
       "[9137 rows x 11 columns]"
      ]
     },
     "execution_count": 22,
     "metadata": {},
     "output_type": "execute_result"
    }
   ],
   "source": [
    "data"
   ]
  },
  {
   "cell_type": "code",
   "execution_count": 23,
   "id": "2876fd79",
   "metadata": {},
   "outputs": [
    {
     "name": "stdout",
     "output_type": "stream",
     "text": [
      "<class 'pandas.core.frame.DataFrame'>\n",
      "Int64Index: 9137 entries, 0 to 7069\n",
      "Data columns (total 11 columns):\n",
      " #   Column                     Non-Null Count  Dtype  \n",
      "---  ------                     --------------  -----  \n",
      " 0   Customer                   9137 non-null   object \n",
      " 1   State                      9137 non-null   object \n",
      " 2   Gender                     9015 non-null   object \n",
      " 3   Education                  9137 non-null   object \n",
      " 4   Customer Lifetime Value    9130 non-null   object \n",
      " 5   Income                     9137 non-null   object \n",
      " 6   Monthly Premium Auto       9137 non-null   object \n",
      " 7   Number of Open Complaints  9137 non-null   object \n",
      " 8   Policy Type                9137 non-null   object \n",
      " 9   Vehicle Class              9137 non-null   object \n",
      " 10  Total Claim Amount         9137 non-null   float64\n",
      "dtypes: float64(1), object(10)\n",
      "memory usage: 856.6+ KB\n"
     ]
    }
   ],
   "source": [
    "data.info()"
   ]
  },
  {
   "cell_type": "code",
   "execution_count": 24,
   "id": "b7b77e7a",
   "metadata": {},
   "outputs": [],
   "source": [
    "data.reset_index(drop=True, inplace=True)"
   ]
  },
  {
   "cell_type": "markdown",
   "id": "f82fa248",
   "metadata": {},
   "source": [
    "### Data types"
   ]
  },
  {
   "cell_type": "code",
   "execution_count": 25,
   "id": "fc37d257",
   "metadata": {},
   "outputs": [
    {
     "data": {
      "text/plain": [
       "Customer                      object\n",
       "State                         object\n",
       "Gender                        object\n",
       "Education                     object\n",
       "Customer Lifetime Value       object\n",
       "Income                        object\n",
       "Monthly Premium Auto          object\n",
       "Number of Open Complaints     object\n",
       "Policy Type                   object\n",
       "Vehicle Class                 object\n",
       "Total Claim Amount           float64\n",
       "dtype: object"
      ]
     },
     "execution_count": 25,
     "metadata": {},
     "output_type": "execute_result"
    }
   ],
   "source": [
    "data.dtypes"
   ]
  },
  {
   "cell_type": "markdown",
   "id": "3236bb29",
   "metadata": {},
   "source": [
    "### Cleaning data"
   ]
  },
  {
   "cell_type": "markdown",
   "id": "b7c1434f",
   "metadata": {},
   "source": [
    "Delete column education and the number of open complaints"
   ]
  },
  {
   "cell_type": "code",
   "execution_count": 26,
   "id": "6ddd2490",
   "metadata": {},
   "outputs": [],
   "source": [
    "cleandata = data.drop(['Education','Number of Open Complaints'],axis=1)"
   ]
  },
  {
   "cell_type": "markdown",
   "id": "28ec8f03",
   "metadata": {},
   "source": [
    "Correct the values in the column customer lifetime value, multiply them by 100 and change dtype to numerical type."
   ]
  },
  {
   "cell_type": "code",
   "execution_count": 27,
   "id": "f2c0c0b7",
   "metadata": {},
   "outputs": [],
   "source": [
    "cleandata['Customer Lifetime Value'] = cleandata['Customer Lifetime Value'].str.rstrip('%').astype('float') * 100"
   ]
  },
  {
   "cell_type": "code",
   "execution_count": 28,
   "id": "9815a224",
   "metadata": {},
   "outputs": [
    {
     "data": {
      "text/html": [
       "<div>\n",
       "<style scoped>\n",
       "    .dataframe tbody tr th:only-of-type {\n",
       "        vertical-align: middle;\n",
       "    }\n",
       "\n",
       "    .dataframe tbody tr th {\n",
       "        vertical-align: top;\n",
       "    }\n",
       "\n",
       "    .dataframe thead th {\n",
       "        text-align: right;\n",
       "    }\n",
       "</style>\n",
       "<table border=\"1\" class=\"dataframe\">\n",
       "  <thead>\n",
       "    <tr style=\"text-align: right;\">\n",
       "      <th></th>\n",
       "      <th>Customer</th>\n",
       "      <th>State</th>\n",
       "      <th>Gender</th>\n",
       "      <th>Customer Lifetime Value</th>\n",
       "      <th>Income</th>\n",
       "      <th>Monthly Premium Auto</th>\n",
       "      <th>Policy Type</th>\n",
       "      <th>Vehicle Class</th>\n",
       "      <th>Total Claim Amount</th>\n",
       "    </tr>\n",
       "  </thead>\n",
       "  <tbody>\n",
       "    <tr>\n",
       "      <th>0</th>\n",
       "      <td>RB50392</td>\n",
       "      <td>Washington</td>\n",
       "      <td>NaN</td>\n",
       "      <td>NaN</td>\n",
       "      <td>0</td>\n",
       "      <td>1000</td>\n",
       "      <td>Personal Auto</td>\n",
       "      <td>Four-Door Car</td>\n",
       "      <td>2.704934</td>\n",
       "    </tr>\n",
       "    <tr>\n",
       "      <th>1</th>\n",
       "      <td>QZ44356</td>\n",
       "      <td>Arizona</td>\n",
       "      <td>F</td>\n",
       "      <td>69795359.0</td>\n",
       "      <td>0</td>\n",
       "      <td>94</td>\n",
       "      <td>Personal Auto</td>\n",
       "      <td>Four-Door Car</td>\n",
       "      <td>1131.464935</td>\n",
       "    </tr>\n",
       "    <tr>\n",
       "      <th>2</th>\n",
       "      <td>AI49188</td>\n",
       "      <td>Nevada</td>\n",
       "      <td>F</td>\n",
       "      <td>128874317.0</td>\n",
       "      <td>48767</td>\n",
       "      <td>108</td>\n",
       "      <td>Personal Auto</td>\n",
       "      <td>Two-Door Car</td>\n",
       "      <td>566.472247</td>\n",
       "    </tr>\n",
       "    <tr>\n",
       "      <th>3</th>\n",
       "      <td>WW63253</td>\n",
       "      <td>California</td>\n",
       "      <td>M</td>\n",
       "      <td>76458618.0</td>\n",
       "      <td>0</td>\n",
       "      <td>106</td>\n",
       "      <td>Corporate Auto</td>\n",
       "      <td>SUV</td>\n",
       "      <td>529.881344</td>\n",
       "    </tr>\n",
       "    <tr>\n",
       "      <th>4</th>\n",
       "      <td>GA49547</td>\n",
       "      <td>Washington</td>\n",
       "      <td>M</td>\n",
       "      <td>53630765.0</td>\n",
       "      <td>36357</td>\n",
       "      <td>68</td>\n",
       "      <td>Personal Auto</td>\n",
       "      <td>Four-Door Car</td>\n",
       "      <td>17.269323</td>\n",
       "    </tr>\n",
       "    <tr>\n",
       "      <th>...</th>\n",
       "      <td>...</td>\n",
       "      <td>...</td>\n",
       "      <td>...</td>\n",
       "      <td>...</td>\n",
       "      <td>...</td>\n",
       "      <td>...</td>\n",
       "      <td>...</td>\n",
       "      <td>...</td>\n",
       "      <td>...</td>\n",
       "    </tr>\n",
       "    <tr>\n",
       "      <th>9132</th>\n",
       "      <td>LA72316</td>\n",
       "      <td>California</td>\n",
       "      <td>M</td>\n",
       "      <td>NaN</td>\n",
       "      <td>71941</td>\n",
       "      <td>73</td>\n",
       "      <td>Personal Auto</td>\n",
       "      <td>Four-Door Car</td>\n",
       "      <td>198.234764</td>\n",
       "    </tr>\n",
       "    <tr>\n",
       "      <th>9133</th>\n",
       "      <td>PK87824</td>\n",
       "      <td>California</td>\n",
       "      <td>F</td>\n",
       "      <td>NaN</td>\n",
       "      <td>21604</td>\n",
       "      <td>79</td>\n",
       "      <td>Corporate Auto</td>\n",
       "      <td>Four-Door Car</td>\n",
       "      <td>379.200000</td>\n",
       "    </tr>\n",
       "    <tr>\n",
       "      <th>9134</th>\n",
       "      <td>TD14365</td>\n",
       "      <td>California</td>\n",
       "      <td>M</td>\n",
       "      <td>NaN</td>\n",
       "      <td>0</td>\n",
       "      <td>85</td>\n",
       "      <td>Corporate Auto</td>\n",
       "      <td>Four-Door Car</td>\n",
       "      <td>790.784983</td>\n",
       "    </tr>\n",
       "    <tr>\n",
       "      <th>9135</th>\n",
       "      <td>UP19263</td>\n",
       "      <td>California</td>\n",
       "      <td>M</td>\n",
       "      <td>NaN</td>\n",
       "      <td>21941</td>\n",
       "      <td>96</td>\n",
       "      <td>Personal Auto</td>\n",
       "      <td>Four-Door Car</td>\n",
       "      <td>691.200000</td>\n",
       "    </tr>\n",
       "    <tr>\n",
       "      <th>9136</th>\n",
       "      <td>Y167826</td>\n",
       "      <td>California</td>\n",
       "      <td>M</td>\n",
       "      <td>NaN</td>\n",
       "      <td>0</td>\n",
       "      <td>77</td>\n",
       "      <td>Corporate Auto</td>\n",
       "      <td>Two-Door Car</td>\n",
       "      <td>369.600000</td>\n",
       "    </tr>\n",
       "  </tbody>\n",
       "</table>\n",
       "<p>9137 rows × 9 columns</p>\n",
       "</div>"
      ],
      "text/plain": [
       "     Customer       State Gender  Customer Lifetime Value Income  \\\n",
       "0     RB50392  Washington    NaN                      NaN      0   \n",
       "1     QZ44356     Arizona      F               69795359.0      0   \n",
       "2     AI49188      Nevada      F              128874317.0  48767   \n",
       "3     WW63253  California      M               76458618.0      0   \n",
       "4     GA49547  Washington      M               53630765.0  36357   \n",
       "...       ...         ...    ...                      ...    ...   \n",
       "9132  LA72316  California      M                      NaN  71941   \n",
       "9133  PK87824  California      F                      NaN  21604   \n",
       "9134  TD14365  California      M                      NaN      0   \n",
       "9135  UP19263  California      M                      NaN  21941   \n",
       "9136  Y167826  California      M                      NaN      0   \n",
       "\n",
       "     Monthly Premium Auto     Policy Type  Vehicle Class  Total Claim Amount  \n",
       "0                    1000   Personal Auto  Four-Door Car            2.704934  \n",
       "1                      94   Personal Auto  Four-Door Car         1131.464935  \n",
       "2                     108   Personal Auto   Two-Door Car          566.472247  \n",
       "3                     106  Corporate Auto            SUV          529.881344  \n",
       "4                      68   Personal Auto  Four-Door Car           17.269323  \n",
       "...                   ...             ...            ...                 ...  \n",
       "9132                   73   Personal Auto  Four-Door Car          198.234764  \n",
       "9133                   79  Corporate Auto  Four-Door Car          379.200000  \n",
       "9134                   85  Corporate Auto  Four-Door Car          790.784983  \n",
       "9135                   96   Personal Auto  Four-Door Car          691.200000  \n",
       "9136                   77  Corporate Auto   Two-Door Car          369.600000  \n",
       "\n",
       "[9137 rows x 9 columns]"
      ]
     },
     "execution_count": 28,
     "metadata": {},
     "output_type": "execute_result"
    }
   ],
   "source": [
    "cleandata"
   ]
  },
  {
   "cell_type": "code",
   "execution_count": 29,
   "id": "a1543e8f",
   "metadata": {},
   "outputs": [
    {
     "data": {
      "text/plain": [
       "Customer                    object\n",
       "State                       object\n",
       "Gender                      object\n",
       "Customer Lifetime Value    float64\n",
       "Income                      object\n",
       "Monthly Premium Auto        object\n",
       "Policy Type                 object\n",
       "Vehicle Class               object\n",
       "Total Claim Amount         float64\n",
       "dtype: object"
      ]
     },
     "execution_count": 29,
     "metadata": {},
     "output_type": "execute_result"
    }
   ],
   "source": [
    "cleandata.dtypes"
   ]
  },
  {
   "cell_type": "markdown",
   "id": "34bcd661",
   "metadata": {},
   "source": [
    "Check for duplicate rows in the data and remove if any"
   ]
  },
  {
   "cell_type": "code",
   "execution_count": 30,
   "id": "8d042ccb",
   "metadata": {},
   "outputs": [],
   "source": [
    "cleandata=cleandata.drop_duplicates()"
   ]
  },
  {
   "cell_type": "code",
   "execution_count": 31,
   "id": "1b90d183",
   "metadata": {},
   "outputs": [
    {
     "data": {
      "text/plain": [
       "(9130, 9)"
      ]
     },
     "execution_count": 31,
     "metadata": {},
     "output_type": "execute_result"
    }
   ],
   "source": [
    "cleandata.shape"
   ]
  },
  {
   "cell_type": "markdown",
   "id": "2255831f",
   "metadata": {},
   "source": [
    "Filter out the data for customers who have an income of 0 or less"
   ]
  },
  {
   "cell_type": "code",
   "execution_count": 32,
   "id": "2eed8fed",
   "metadata": {},
   "outputs": [],
   "source": [
    "filterdata=cleandata.query('Income<=0')"
   ]
  },
  {
   "cell_type": "code",
   "execution_count": 33,
   "id": "40996bdc",
   "metadata": {},
   "outputs": [
    {
     "data": {
      "text/html": [
       "<div>\n",
       "<style scoped>\n",
       "    .dataframe tbody tr th:only-of-type {\n",
       "        vertical-align: middle;\n",
       "    }\n",
       "\n",
       "    .dataframe tbody tr th {\n",
       "        vertical-align: top;\n",
       "    }\n",
       "\n",
       "    .dataframe thead th {\n",
       "        text-align: right;\n",
       "    }\n",
       "</style>\n",
       "<table border=\"1\" class=\"dataframe\">\n",
       "  <thead>\n",
       "    <tr style=\"text-align: right;\">\n",
       "      <th></th>\n",
       "      <th>Customer</th>\n",
       "      <th>State</th>\n",
       "      <th>Gender</th>\n",
       "      <th>Customer Lifetime Value</th>\n",
       "      <th>Income</th>\n",
       "      <th>Monthly Premium Auto</th>\n",
       "      <th>Policy Type</th>\n",
       "      <th>Vehicle Class</th>\n",
       "      <th>Total Claim Amount</th>\n",
       "    </tr>\n",
       "  </thead>\n",
       "  <tbody>\n",
       "    <tr>\n",
       "      <th>0</th>\n",
       "      <td>RB50392</td>\n",
       "      <td>Washington</td>\n",
       "      <td>NaN</td>\n",
       "      <td>NaN</td>\n",
       "      <td>0</td>\n",
       "      <td>1000</td>\n",
       "      <td>Personal Auto</td>\n",
       "      <td>Four-Door Car</td>\n",
       "      <td>2.704934</td>\n",
       "    </tr>\n",
       "    <tr>\n",
       "      <th>1</th>\n",
       "      <td>QZ44356</td>\n",
       "      <td>Arizona</td>\n",
       "      <td>F</td>\n",
       "      <td>69795359.0</td>\n",
       "      <td>0</td>\n",
       "      <td>94</td>\n",
       "      <td>Personal Auto</td>\n",
       "      <td>Four-Door Car</td>\n",
       "      <td>1131.464935</td>\n",
       "    </tr>\n",
       "    <tr>\n",
       "      <th>3</th>\n",
       "      <td>WW63253</td>\n",
       "      <td>California</td>\n",
       "      <td>M</td>\n",
       "      <td>76458618.0</td>\n",
       "      <td>0</td>\n",
       "      <td>106</td>\n",
       "      <td>Corporate Auto</td>\n",
       "      <td>SUV</td>\n",
       "      <td>529.881344</td>\n",
       "    </tr>\n",
       "    <tr>\n",
       "      <th>7</th>\n",
       "      <td>CF85061</td>\n",
       "      <td>Arizona</td>\n",
       "      <td>M</td>\n",
       "      <td>72161003.0</td>\n",
       "      <td>0</td>\n",
       "      <td>101</td>\n",
       "      <td>Corporate Auto</td>\n",
       "      <td>Four-Door Car</td>\n",
       "      <td>363.029680</td>\n",
       "    </tr>\n",
       "    <tr>\n",
       "      <th>10</th>\n",
       "      <td>SX51350</td>\n",
       "      <td>California</td>\n",
       "      <td>M</td>\n",
       "      <td>47389920.0</td>\n",
       "      <td>0</td>\n",
       "      <td>67</td>\n",
       "      <td>Personal Auto</td>\n",
       "      <td>Four-Door Car</td>\n",
       "      <td>482.400000</td>\n",
       "    </tr>\n",
       "    <tr>\n",
       "      <th>...</th>\n",
       "      <td>...</td>\n",
       "      <td>...</td>\n",
       "      <td>...</td>\n",
       "      <td>...</td>\n",
       "      <td>...</td>\n",
       "      <td>...</td>\n",
       "      <td>...</td>\n",
       "      <td>...</td>\n",
       "      <td>...</td>\n",
       "    </tr>\n",
       "    <tr>\n",
       "      <th>9126</th>\n",
       "      <td>WZ45103</td>\n",
       "      <td>California</td>\n",
       "      <td>F</td>\n",
       "      <td>NaN</td>\n",
       "      <td>0</td>\n",
       "      <td>76</td>\n",
       "      <td>Personal Auto</td>\n",
       "      <td>Four-Door Car</td>\n",
       "      <td>364.800000</td>\n",
       "    </tr>\n",
       "    <tr>\n",
       "      <th>9128</th>\n",
       "      <td>RX91025</td>\n",
       "      <td>California</td>\n",
       "      <td>M</td>\n",
       "      <td>NaN</td>\n",
       "      <td>0</td>\n",
       "      <td>185</td>\n",
       "      <td>Personal Auto</td>\n",
       "      <td>SUV</td>\n",
       "      <td>1950.725547</td>\n",
       "    </tr>\n",
       "    <tr>\n",
       "      <th>9129</th>\n",
       "      <td>AC13887</td>\n",
       "      <td>California</td>\n",
       "      <td>M</td>\n",
       "      <td>NaN</td>\n",
       "      <td>0</td>\n",
       "      <td>67</td>\n",
       "      <td>Corporate Auto</td>\n",
       "      <td>Two-Door Car</td>\n",
       "      <td>482.400000</td>\n",
       "    </tr>\n",
       "    <tr>\n",
       "      <th>9134</th>\n",
       "      <td>TD14365</td>\n",
       "      <td>California</td>\n",
       "      <td>M</td>\n",
       "      <td>NaN</td>\n",
       "      <td>0</td>\n",
       "      <td>85</td>\n",
       "      <td>Corporate Auto</td>\n",
       "      <td>Four-Door Car</td>\n",
       "      <td>790.784983</td>\n",
       "    </tr>\n",
       "    <tr>\n",
       "      <th>9136</th>\n",
       "      <td>Y167826</td>\n",
       "      <td>California</td>\n",
       "      <td>M</td>\n",
       "      <td>NaN</td>\n",
       "      <td>0</td>\n",
       "      <td>77</td>\n",
       "      <td>Corporate Auto</td>\n",
       "      <td>Two-Door Car</td>\n",
       "      <td>369.600000</td>\n",
       "    </tr>\n",
       "  </tbody>\n",
       "</table>\n",
       "<p>2293 rows × 9 columns</p>\n",
       "</div>"
      ],
      "text/plain": [
       "     Customer       State Gender  Customer Lifetime Value Income  \\\n",
       "0     RB50392  Washington    NaN                      NaN      0   \n",
       "1     QZ44356     Arizona      F               69795359.0      0   \n",
       "3     WW63253  California      M               76458618.0      0   \n",
       "7     CF85061     Arizona      M               72161003.0      0   \n",
       "10    SX51350  California      M               47389920.0      0   \n",
       "...       ...         ...    ...                      ...    ...   \n",
       "9126  WZ45103  California      F                      NaN      0   \n",
       "9128  RX91025  California      M                      NaN      0   \n",
       "9129  AC13887  California      M                      NaN      0   \n",
       "9134  TD14365  California      M                      NaN      0   \n",
       "9136  Y167826  California      M                      NaN      0   \n",
       "\n",
       "     Monthly Premium Auto     Policy Type  Vehicle Class  Total Claim Amount  \n",
       "0                    1000   Personal Auto  Four-Door Car            2.704934  \n",
       "1                      94   Personal Auto  Four-Door Car         1131.464935  \n",
       "3                     106  Corporate Auto            SUV          529.881344  \n",
       "7                     101  Corporate Auto  Four-Door Car          363.029680  \n",
       "10                     67   Personal Auto  Four-Door Car          482.400000  \n",
       "...                   ...             ...            ...                 ...  \n",
       "9126                   76   Personal Auto  Four-Door Car          364.800000  \n",
       "9128                  185   Personal Auto            SUV         1950.725547  \n",
       "9129                   67  Corporate Auto   Two-Door Car          482.400000  \n",
       "9134                   85  Corporate Auto  Four-Door Car          790.784983  \n",
       "9136                   77  Corporate Auto   Two-Door Car          369.600000  \n",
       "\n",
       "[2293 rows x 9 columns]"
      ]
     },
     "execution_count": 33,
     "metadata": {},
     "output_type": "execute_result"
    }
   ],
   "source": [
    "filterdata"
   ]
  },
  {
   "cell_type": "code",
   "execution_count": null,
   "id": "6df2a5eb",
   "metadata": {},
   "outputs": [],
   "source": []
  }
 ],
 "metadata": {
  "kernelspec": {
   "display_name": "Python 3",
   "language": "python",
   "name": "python3"
  },
  "language_info": {
   "codemirror_mode": {
    "name": "ipython",
    "version": 3
   },
   "file_extension": ".py",
   "mimetype": "text/x-python",
   "name": "python",
   "nbconvert_exporter": "python",
   "pygments_lexer": "ipython3",
   "version": "3.8.8"
  }
 },
 "nbformat": 4,
 "nbformat_minor": 5
}
