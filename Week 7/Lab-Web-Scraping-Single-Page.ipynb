{
 "cells": [
  {
   "cell_type": "markdown",
   "id": "d6816f98",
   "metadata": {},
   "source": [
    "# Lab | Web Scraping Single Page"
   ]
  },
  {
   "cell_type": "markdown",
   "id": "b4937635",
   "metadata": {},
   "source": [
    " Scrape the current top 100 songs and their respective artists from https://www.billboard.com/charts/hot-100, and put the information into a pandas dataframe."
   ]
  },
  {
   "cell_type": "code",
   "execution_count": 1,
   "id": "25aadcac",
   "metadata": {},
   "outputs": [],
   "source": [
    "# importing libraries\n",
    "\n",
    "from bs4 import BeautifulSoup\n",
    "import re \n",
    "import requests\n",
    "import pandas as pd\n",
    "from tqdm.notebook import tqdm"
   ]
  },
  {
   "cell_type": "markdown",
   "id": "f7dae385",
   "metadata": {},
   "source": [
    "## Getting the info from the web"
   ]
  },
  {
   "cell_type": "code",
   "execution_count": 2,
   "id": "d7a79cfc",
   "metadata": {},
   "outputs": [
    {
     "data": {
      "text/plain": [
       "200"
      ]
     },
     "execution_count": 2,
     "metadata": {},
     "output_type": "execute_result"
    }
   ],
   "source": [
    "# storing link in a variable\n",
    "url = \"https://www.billboard.com/charts/hot-100\"\n",
    "# downloading  html with a get request\n",
    "response = requests.get(url)\n",
    "#check response status code \n",
    "response.status_code"
   ]
  },
  {
   "cell_type": "code",
   "execution_count": 3,
   "id": "eb0f419c",
   "metadata": {},
   "outputs": [],
   "source": [
    "#parsing and storing the contents of the url call\n",
    "billboardsoup = BeautifulSoup(response.content, 'html.parser')\n",
    "#prettifying the soup \n",
    "# billboardsoup.prettify"
   ]
  },
  {
   "cell_type": "markdown",
   "id": "30c173d0",
   "metadata": {},
   "source": [
    "## Querying the soup to get song title & artist"
   ]
  },
  {
   "cell_type": "code",
   "execution_count": 4,
   "id": "95d675bd",
   "metadata": {},
   "outputs": [
    {
     "data": {
      "text/plain": [
       "\"All Too Well (Taylor's Version)\""
      ]
     },
     "execution_count": 4,
     "metadata": {},
     "output_type": "execute_result"
    }
   ],
   "source": [
    "# getting song title\n",
    "\n",
    "billboardsoup.select('h3.c-title.a-no-trucate')[0].get_text(strip=True)"
   ]
  },
  {
   "cell_type": "code",
   "execution_count": 5,
   "id": "ceeafd11",
   "metadata": {},
   "outputs": [
    {
     "data": {
      "text/plain": [
       "'Taylor Swift'"
      ]
     },
     "execution_count": 5,
     "metadata": {},
     "output_type": "execute_result"
    }
   ],
   "source": [
    "# getting artist\n",
    "\n",
    "billboardsoup.select('span.c-label.a-font-primary-s')[0].get_text(strip=True)"
   ]
  },
  {
   "cell_type": "code",
   "execution_count": 6,
   "id": "ca26b8b9",
   "metadata": {},
   "outputs": [
    {
     "data": {
      "text/plain": [
       "100"
      ]
     },
     "execution_count": 6,
     "metadata": {},
     "output_type": "execute_result"
    }
   ],
   "source": [
    "# checking the amount of results\n",
    "\n",
    "top_100 = len(billboardsoup.select('h3.c-title.a-no-trucate'))\n",
    "top_100"
   ]
  },
  {
   "cell_type": "code",
   "execution_count": 7,
   "id": "c9aca734",
   "metadata": {},
   "outputs": [
    {
     "data": {
      "application/vnd.jupyter.widget-view+json": {
       "model_id": "09b0c0ad73c64cb3bdd975b2836b5e93",
       "version_major": 2,
       "version_minor": 0
      },
      "text/plain": [
       "  0%|          | 0/100 [00:00<?, ?it/s]"
      ]
     },
     "metadata": {},
     "output_type": "display_data"
    }
   ],
   "source": [
    "# looping the songs\n",
    "song = []\n",
    "artist = []\n",
    "\n",
    "for i in tqdm(range(top_100)):\n",
    "    song.append(billboardsoup.select('h3.c-title.a-no-trucate')[i].get_text(strip=True))\n",
    "    artist.append(billboardsoup.select('span.c-label.a-font-primary-s')[i].get_text(strip=True))"
   ]
  },
  {
   "cell_type": "code",
   "execution_count": 8,
   "id": "a841cf93",
   "metadata": {},
   "outputs": [],
   "source": [
    "billboard_top100 = pd.DataFrame({'song':song,'artist':artist})"
   ]
  },
  {
   "cell_type": "code",
   "execution_count": 9,
   "id": "db7c00c5",
   "metadata": {},
   "outputs": [
    {
     "data": {
      "text/html": [
       "<div>\n",
       "<style scoped>\n",
       "    .dataframe tbody tr th:only-of-type {\n",
       "        vertical-align: middle;\n",
       "    }\n",
       "\n",
       "    .dataframe tbody tr th {\n",
       "        vertical-align: top;\n",
       "    }\n",
       "\n",
       "    .dataframe thead th {\n",
       "        text-align: right;\n",
       "    }\n",
       "</style>\n",
       "<table border=\"1\" class=\"dataframe\">\n",
       "  <thead>\n",
       "    <tr style=\"text-align: right;\">\n",
       "      <th></th>\n",
       "      <th>song</th>\n",
       "      <th>artist</th>\n",
       "    </tr>\n",
       "  </thead>\n",
       "  <tbody>\n",
       "    <tr>\n",
       "      <th>0</th>\n",
       "      <td>All Too Well (Taylor's Version)</td>\n",
       "      <td>Taylor Swift</td>\n",
       "    </tr>\n",
       "    <tr>\n",
       "      <th>1</th>\n",
       "      <td>Easy On Me</td>\n",
       "      <td>Adele</td>\n",
       "    </tr>\n",
       "    <tr>\n",
       "      <th>2</th>\n",
       "      <td>Stay</td>\n",
       "      <td>The Kid LAROI &amp; Justin Bieber</td>\n",
       "    </tr>\n",
       "    <tr>\n",
       "      <th>3</th>\n",
       "      <td>Industry Baby</td>\n",
       "      <td>Lil Nas X &amp; Jack Harlow</td>\n",
       "    </tr>\n",
       "    <tr>\n",
       "      <th>4</th>\n",
       "      <td>Smokin Out The Window</td>\n",
       "      <td>Silk Sonic (Bruno Mars &amp; Anderson .Paak)</td>\n",
       "    </tr>\n",
       "  </tbody>\n",
       "</table>\n",
       "</div>"
      ],
      "text/plain": [
       "                              song                                    artist\n",
       "0  All Too Well (Taylor's Version)                              Taylor Swift\n",
       "1                       Easy On Me                                     Adele\n",
       "2                             Stay             The Kid LAROI & Justin Bieber\n",
       "3                    Industry Baby                   Lil Nas X & Jack Harlow\n",
       "4            Smokin Out The Window  Silk Sonic (Bruno Mars & Anderson .Paak)"
      ]
     },
     "execution_count": 9,
     "metadata": {},
     "output_type": "execute_result"
    }
   ],
   "source": [
    "billboard_top100.head()"
   ]
  },
  {
   "cell_type": "code",
   "execution_count": null,
   "id": "10939b23",
   "metadata": {},
   "outputs": [],
   "source": [
    "billboard_top100.to_csv(r'billboard_top100.csv', index = False, header = True)"
   ]
  }
 ],
 "metadata": {
  "kernelspec": {
   "display_name": "Python 3 (ipykernel)",
   "language": "python",
   "name": "python3"
  },
  "language_info": {
   "codemirror_mode": {
    "name": "ipython",
    "version": 3
   },
   "file_extension": ".py",
   "mimetype": "text/x-python",
   "name": "python",
   "nbconvert_exporter": "python",
   "pygments_lexer": "ipython3",
   "version": "3.9.7"
  },
  "toc": {
   "base_numbering": 1,
   "nav_menu": {},
   "number_sections": true,
   "sideBar": true,
   "skip_h1_title": true,
   "title_cell": "Table of Contents",
   "title_sidebar": "Contents",
   "toc_cell": false,
   "toc_position": {},
   "toc_section_display": true,
   "toc_window_display": false
  }
 },
 "nbformat": 4,
 "nbformat_minor": 5
}
