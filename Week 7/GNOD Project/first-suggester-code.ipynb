{
 "cells": [
  {
   "cell_type": "code",
   "execution_count": 8,
   "id": "a552263e",
   "metadata": {},
   "outputs": [
    {
     "data": {
      "application/vnd.jupyter.widget-view+json": {
       "model_id": "ce335bef1eac45d79c34b2a35cb05348",
       "version_major": 2,
       "version_minor": 0
      },
      "text/plain": [
       "  0%|          | 0/100 [00:00<?, ?it/s]"
      ]
     },
     "metadata": {},
     "output_type": "display_data"
    },
    {
     "name": "stdout",
     "output_type": "stream",
     "text": [
      "What song do you have in mind?: es\n",
      "Are you thinking about 'Heat Waves' by 'Glass Animals'? [y/n]: n\n",
      "That song is not hot, good for you for not following the crowds!\n",
      "Want to try again? [y/n]: y\n",
      "Awesome! Here, have another go:\n",
      "What song do you have in mind?: n\n",
      "Are you thinking about 'Easy On Me' by 'Adele'? [y/n]: n\n",
      "That song is not hot, good for you for not following the crowds!\n",
      "Want to try again? [y/n]: n\n",
      "Oh well, your bad, this is an awesome recommender\n"
     ]
    }
   ],
   "source": [
    "# importing libraries\n",
    "\n",
    "from bs4 import BeautifulSoup\n",
    "import re \n",
    "import requests\n",
    "import pandas as pd\n",
    "from tqdm.notebook import tqdm\n",
    "from random import randint\n",
    "\n",
    "\n",
    "# In[ ]:\n",
    "\n",
    "\n",
    "# storing link in a variable\n",
    "url = \"https://www.billboard.com/charts/hot-100\"\n",
    "# downloading  html with a get request\n",
    "response = requests.get(url)\n",
    "# check response status code \n",
    "response.status_code\n",
    "\n",
    "\n",
    "# In[ ]:\n",
    "\n",
    "\n",
    "# parsing and storing the contents of the url call\n",
    "billboardsoup = BeautifulSoup(response.content, 'html.parser')\n",
    "top_100 = len(billboardsoup.select('h3.c-title.a-no-trucate'))\n",
    "\n",
    "\n",
    "# In[ ]:\n",
    "\n",
    "\n",
    "# looping the songs/artists\n",
    "song = []\n",
    "artist = []\n",
    "\n",
    "for i in tqdm(range(top_100)):\n",
    "    song.append(billboardsoup.select('h3.c-title.a-no-trucate')[i].get_text(strip=True))\n",
    "    artist.append(billboardsoup.select('span.c-label.a-font-primary-s')[i].get_text(strip=True))\n",
    "\n",
    "\n",
    "# In[ ]:\n",
    "\n",
    "\n",
    "billboard_top100 = pd.DataFrame({'song':song,'artist':artist})\n",
    "\n",
    "\n",
    "# In[ ]:\n",
    "\n",
    "\n",
    "def suggester():\n",
    "    song = str(input(\"What song do you have in mind?: \").lower().replace(\" \", ''))\n",
    "    # check hot 100\n",
    "    check = billboard_top100[billboard_top100['song'].str.lower().str.replace(\" \",\"\").str.contains(song)]\n",
    "    # get index\n",
    "    index = check.index.tolist()\n",
    "    if len(check) == 0:\n",
    "        print(\"Oh well, my bad, but that song is not hot. Anyway! Good for you for not following the crowds!\")\n",
    "        song2 = str(input(\"Want to try again? [y/n]: \")).lower().replace(\" \", '')\n",
    "        if song2 == 'y':\n",
    "            print('Awesome! Here, have another go:')\n",
    "            suggester()\n",
    "        else:\n",
    "            print('Oh well, your bad, this is an awesome recommender')\n",
    "    else:\n",
    "        answer1 = input(\"Are you thinking about '\" + billboard_top100.song[index].values[0] + \"' by '\" + billboard_top100.artist[index].values[0] + \"'? [y/n]: \")\n",
    "    #make a song suggestion\n",
    "        if answer1.lower() == 'y':\n",
    "            suggestion = billboard_top100.sample().index.tolist()\n",
    "            print(\"Then listen to '\" + billboard_top100['song'][suggestion].item() + \"' by '\" + billboard_top100['artist'][suggestion].item() + \"' I think you'll like it.\")\n",
    "            song2 = str(input(\"Want to try again? [y/n]: \")).lower().replace(\" \", '')\n",
    "            if song2 == 'y':\n",
    "                print('Awesome! Here, have another go:')\n",
    "                suggester()\n",
    "            else:\n",
    "                print('Oh well, your bad, this is an awesome recommender')\n",
    "        else:\n",
    "            print(\"That song is not hot, good for you for not following the crowds!\")\n",
    "            song2 = str(input(\"Want to try again? [y/n]: \")).lower().replace(\" \", '')\n",
    "            if song2 == 'y':\n",
    "                print('Awesome! Here, have another go:')\n",
    "                suggester()\n",
    "            else:\n",
    "                print('Oh well, your bad, this is an awesome recommender')\n",
    "            \n",
    "suggester()\n"
   ]
  }
 ],
 "metadata": {
  "kernelspec": {
   "display_name": "Python 3 (ipykernel)",
   "language": "python",
   "name": "python3"
  },
  "language_info": {
   "codemirror_mode": {
    "name": "ipython",
    "version": 3
   },
   "file_extension": ".py",
   "mimetype": "text/x-python",
   "name": "python",
   "nbconvert_exporter": "python",
   "pygments_lexer": "ipython3",
   "version": "3.9.7"
  },
  "toc": {
   "base_numbering": 1,
   "nav_menu": {},
   "number_sections": true,
   "sideBar": true,
   "skip_h1_title": false,
   "title_cell": "Table of Contents",
   "title_sidebar": "Contents",
   "toc_cell": false,
   "toc_position": {},
   "toc_section_display": true,
   "toc_window_display": true
  }
 },
 "nbformat": 4,
 "nbformat_minor": 5
}
