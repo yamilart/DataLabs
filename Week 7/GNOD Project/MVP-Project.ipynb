{
 "cells": [
  {
   "cell_type": "markdown",
   "id": "df279b13",
   "metadata": {},
   "source": [
    "# MVP"
   ]
  },
  {
   "cell_type": "code",
   "execution_count": 2,
   "id": "81104c5a",
   "metadata": {},
   "outputs": [
    {
     "data": {
      "application/vnd.jupyter.widget-view+json": {
       "model_id": "97fb59451fce4dbd98d5713389b06ba3",
       "version_major": 2,
       "version_minor": 0
      },
      "text/plain": [
       "  0%|          | 0/100 [00:00<?, ?it/s]"
      ]
     },
     "metadata": {},
     "output_type": "display_data"
    },
    {
     "name": "stdout",
     "output_type": "stream",
     "text": [
      "What song do you have in mind?: Stay\n",
      "Are you thinking about 'Stay' by 'The Kid LAROI & Justin Bieber'? [y/n]: y\n",
      "Then listen to 'Enemy' by 'Imagine Dragons X JID' I think you'll like it.\n",
      "Want to try again? [y/n]: y\n",
      "Awesome! Here, have another go:\n",
      "What song do you have in mind?: Christmas\n",
      "Are you thinking about 'All I Want For Christmas Is You' by 'Mariah Carey'? [y/n]: y\n",
      "Then listen to 'abcdefu' by 'GAYLE' I think you'll like it.\n",
      "Want to try again? [y/n]: n\n",
      "Oh well, your bad, this is an awesome recommender\n"
     ]
    }
   ],
   "source": [
    "from firstsuggester import suggester"
   ]
  }
 ],
 "metadata": {
  "kernelspec": {
   "display_name": "Python 3 (ipykernel)",
   "language": "python",
   "name": "python3"
  },
  "language_info": {
   "codemirror_mode": {
    "name": "ipython",
    "version": 3
   },
   "file_extension": ".py",
   "mimetype": "text/x-python",
   "name": "python",
   "nbconvert_exporter": "python",
   "pygments_lexer": "ipython3",
   "version": "3.9.7"
  },
  "toc": {
   "base_numbering": 1,
   "nav_menu": {},
   "number_sections": true,
   "sideBar": true,
   "skip_h1_title": true,
   "title_cell": "Table of Contents",
   "title_sidebar": "Contents",
   "toc_cell": false,
   "toc_position": {},
   "toc_section_display": true,
   "toc_window_display": false
  }
 },
 "nbformat": 4,
 "nbformat_minor": 5
}
