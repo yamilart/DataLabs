{
 "cells": [
  {
   "cell_type": "markdown",
   "id": "82117706",
   "metadata": {
    "hide_input": true
   },
   "source": [
    "# **GNOD Song Suggester**"
   ]
  },
  {
   "cell_type": "code",
   "execution_count": 2,
   "id": "82591af6",
   "metadata": {
    "hide_input": true
   },
   "outputs": [
    {
     "data": {
      "application/vnd.jupyter.widget-view+json": {
       "model_id": "13cf38c49e1c4c24b0030cf412b39785",
       "version_major": 2,
       "version_minor": 0
      },
      "text/plain": [
       "  0%|          | 0/100 [00:00<?, ?it/s]"
      ]
     },
     "metadata": {},
     "output_type": "display_data"
    },
    {
     "name": "stdout",
     "output_type": "stream",
     "text": [
      "client_id: ········\n",
      "client_secret: ········\n",
      "\n",
      "    Welcome to the awesome song recommender!\n",
      "    What song do you have in mind?: \n",
      "    Stay\n",
      "Are you thinking about 'Stay' by 'The Kid LAROI & Justin Bieber'? [y/n]: y\n",
      "\u001b[1mThat's a hot song! Listen to 'Enemy' by 'Imagine Dragons X JID' I think you'll like it.\n",
      "Want to try again? [y/n]: y\n",
      "\u001b[1mAwesome! Here, have another go:\n",
      "\n",
      "    Welcome to the awesome song recommender!\n",
      "    What song do you have in mind?: \n",
      "    Wild World\n",
      "\u001b[1mThat song is not hot right now. But listen to For Love by Lush. I think you'll like it!.\n"
     ]
    },
    {
     "data": {
      "text/html": [
       "\n",
       "        <iframe\n",
       "            width=\"320\"\n",
       "            height=\"80\"\n",
       "            src=\"https://open.spotify.com/embed/track/3KiKpbpJp9QKuTZb9ocfJi?frameborder=0&allowtransparency=true&allow=encrypted-media\"\n",
       "            frameborder=\"0\"\n",
       "            allowfullscreen\n",
       "            \n",
       "        ></iframe>\n",
       "        "
      ],
      "text/plain": [
       "<IPython.lib.display.IFrame at 0x15303cd00>"
      ]
     },
     "metadata": {},
     "output_type": "display_data"
    },
    {
     "name": "stdout",
     "output_type": "stream",
     "text": [
      "Want to try again? [y/n]: y\n",
      "\u001b[1mAwesome! Here, have another go:\n",
      "\n",
      "    Welcome to the awesome song recommender!\n",
      "    What song do you have in mind?: \n",
      "    Eye of the tiger\n",
      "\u001b[1mThat song is not hot right now. But listen to Crimson & Clover by Tommy James & The Shondells. I think you'll like it!.\n"
     ]
    },
    {
     "data": {
      "text/html": [
       "\n",
       "        <iframe\n",
       "            width=\"320\"\n",
       "            height=\"80\"\n",
       "            src=\"https://open.spotify.com/embed/track/0I4yYE831a8SW8QIx6bz4x?frameborder=0&allowtransparency=true&allow=encrypted-media\"\n",
       "            frameborder=\"0\"\n",
       "            allowfullscreen\n",
       "            \n",
       "        ></iframe>\n",
       "        "
      ],
      "text/plain": [
       "<IPython.lib.display.IFrame at 0x155ffc2e0>"
      ]
     },
     "metadata": {},
     "output_type": "display_data"
    },
    {
     "name": "stdout",
     "output_type": "stream",
     "text": [
      "Want to try again? [y/n]: y\n",
      "\u001b[1mAwesome! Here, have another go:\n",
      "\n",
      "    Welcome to the awesome song recommender!\n",
      "    What song do you have in mind?: \n",
      "    Highway to hell\n",
      "\u001b[1mThat song is not hot right now. But listen to I Want Candy by The Strangeloves. I think you'll like it!.\n"
     ]
    },
    {
     "data": {
      "text/html": [
       "\n",
       "        <iframe\n",
       "            width=\"320\"\n",
       "            height=\"80\"\n",
       "            src=\"https://open.spotify.com/embed/track/7JoPxqrnT3eq02AnflBSiN?frameborder=0&allowtransparency=true&allow=encrypted-media\"\n",
       "            frameborder=\"0\"\n",
       "            allowfullscreen\n",
       "            \n",
       "        ></iframe>\n",
       "        "
      ],
      "text/plain": [
       "<IPython.lib.display.IFrame at 0x155ffc940>"
      ]
     },
     "metadata": {},
     "output_type": "display_data"
    },
    {
     "name": "stdout",
     "output_type": "stream",
     "text": [
      "Want to try again? [y/n]: n\n",
      "\u001b[1mOh well, your bad, this is an awesome recommender\n"
     ]
    }
   ],
   "source": [
    "from secondsuggester import second_suggester"
   ]
  }
 ],
 "metadata": {
  "kernelspec": {
   "display_name": "Python 3 (ipykernel)",
   "language": "python",
   "name": "python3"
  },
  "language_info": {
   "codemirror_mode": {
    "name": "ipython",
    "version": 3
   },
   "file_extension": ".py",
   "mimetype": "text/x-python",
   "name": "python",
   "nbconvert_exporter": "python",
   "pygments_lexer": "ipython3",
   "version": "3.9.7"
  },
  "toc": {
   "base_numbering": 1,
   "nav_menu": {},
   "number_sections": true,
   "sideBar": true,
   "skip_h1_title": true,
   "title_cell": "Table of Contents",
   "title_sidebar": "Contents",
   "toc_cell": false,
   "toc_position": {},
   "toc_section_display": true,
   "toc_window_display": false
  }
 },
 "nbformat": 4,
 "nbformat_minor": 5
}
