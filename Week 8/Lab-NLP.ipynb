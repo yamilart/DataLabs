{
 "cells": [
  {
   "cell_type": "markdown",
   "id": "394d0578",
   "metadata": {},
   "source": [
    "# NLP Lab"
   ]
  },
  {
   "cell_type": "markdown",
   "id": "c86d289c",
   "metadata": {},
   "source": [
    "Calculate and validate the customer sentiment (polarity) based on reviews of purchased womens clothing"
   ]
  },
  {
   "cell_type": "code",
   "execution_count": 1,
   "id": "3f8c2a61",
   "metadata": {},
   "outputs": [],
   "source": [
    "# packages\n",
    "import docx2txt\n",
    "import nltk\n",
    "from nltk.tokenize import word_tokenize\n",
    "from nltk.text import Text\n",
    "from nltk.corpus import stopwords\n",
    "import pandas as pd\n",
    "from textblob import TextBlob\n",
    "import matplotlib.pyplot as plt\n",
    "import seaborn as sns"
   ]
  },
  {
   "cell_type": "markdown",
   "id": "ad5f794b",
   "metadata": {},
   "source": [
    "## Read the data into a dataframe"
   ]
  },
  {
   "cell_type": "code",
   "execution_count": 2,
   "id": "9beb3a76",
   "metadata": {},
   "outputs": [
    {
     "data": {
      "text/html": [
       "<div>\n",
       "<style scoped>\n",
       "    .dataframe tbody tr th:only-of-type {\n",
       "        vertical-align: middle;\n",
       "    }\n",
       "\n",
       "    .dataframe tbody tr th {\n",
       "        vertical-align: top;\n",
       "    }\n",
       "\n",
       "    .dataframe thead th {\n",
       "        text-align: right;\n",
       "    }\n",
       "</style>\n",
       "<table border=\"1\" class=\"dataframe\">\n",
       "  <thead>\n",
       "    <tr style=\"text-align: right;\">\n",
       "      <th></th>\n",
       "      <th>Unnamed: 0</th>\n",
       "      <th>Clothing ID</th>\n",
       "      <th>Age</th>\n",
       "      <th>Title</th>\n",
       "      <th>Review Text</th>\n",
       "      <th>Rating</th>\n",
       "      <th>Recommended IND</th>\n",
       "      <th>Positive Feedback Count</th>\n",
       "      <th>Division Name</th>\n",
       "      <th>Department Name</th>\n",
       "      <th>Class Name</th>\n",
       "    </tr>\n",
       "  </thead>\n",
       "  <tbody>\n",
       "    <tr>\n",
       "      <th>0</th>\n",
       "      <td>0</td>\n",
       "      <td>767</td>\n",
       "      <td>33</td>\n",
       "      <td>NaN</td>\n",
       "      <td>Absolutely wonderful - silky and sexy and comf...</td>\n",
       "      <td>4</td>\n",
       "      <td>1</td>\n",
       "      <td>0</td>\n",
       "      <td>Initmates</td>\n",
       "      <td>Intimate</td>\n",
       "      <td>Intimates</td>\n",
       "    </tr>\n",
       "    <tr>\n",
       "      <th>1</th>\n",
       "      <td>1</td>\n",
       "      <td>1080</td>\n",
       "      <td>34</td>\n",
       "      <td>NaN</td>\n",
       "      <td>Love this dress!  it's sooo pretty.  i happene...</td>\n",
       "      <td>5</td>\n",
       "      <td>1</td>\n",
       "      <td>4</td>\n",
       "      <td>General</td>\n",
       "      <td>Dresses</td>\n",
       "      <td>Dresses</td>\n",
       "    </tr>\n",
       "    <tr>\n",
       "      <th>2</th>\n",
       "      <td>2</td>\n",
       "      <td>1077</td>\n",
       "      <td>60</td>\n",
       "      <td>Some major design flaws</td>\n",
       "      <td>I had such high hopes for this dress and reall...</td>\n",
       "      <td>3</td>\n",
       "      <td>0</td>\n",
       "      <td>0</td>\n",
       "      <td>General</td>\n",
       "      <td>Dresses</td>\n",
       "      <td>Dresses</td>\n",
       "    </tr>\n",
       "    <tr>\n",
       "      <th>3</th>\n",
       "      <td>3</td>\n",
       "      <td>1049</td>\n",
       "      <td>50</td>\n",
       "      <td>My favorite buy!</td>\n",
       "      <td>I love, love, love this jumpsuit. it's fun, fl...</td>\n",
       "      <td>5</td>\n",
       "      <td>1</td>\n",
       "      <td>0</td>\n",
       "      <td>General Petite</td>\n",
       "      <td>Bottoms</td>\n",
       "      <td>Pants</td>\n",
       "    </tr>\n",
       "    <tr>\n",
       "      <th>4</th>\n",
       "      <td>4</td>\n",
       "      <td>847</td>\n",
       "      <td>47</td>\n",
       "      <td>Flattering shirt</td>\n",
       "      <td>This shirt is very flattering to all due to th...</td>\n",
       "      <td>5</td>\n",
       "      <td>1</td>\n",
       "      <td>6</td>\n",
       "      <td>General</td>\n",
       "      <td>Tops</td>\n",
       "      <td>Blouses</td>\n",
       "    </tr>\n",
       "  </tbody>\n",
       "</table>\n",
       "</div>"
      ],
      "text/plain": [
       "   Unnamed: 0  Clothing ID  Age                    Title  \\\n",
       "0           0          767   33                      NaN   \n",
       "1           1         1080   34                      NaN   \n",
       "2           2         1077   60  Some major design flaws   \n",
       "3           3         1049   50         My favorite buy!   \n",
       "4           4          847   47         Flattering shirt   \n",
       "\n",
       "                                         Review Text  Rating  Recommended IND  \\\n",
       "0  Absolutely wonderful - silky and sexy and comf...       4                1   \n",
       "1  Love this dress!  it's sooo pretty.  i happene...       5                1   \n",
       "2  I had such high hopes for this dress and reall...       3                0   \n",
       "3  I love, love, love this jumpsuit. it's fun, fl...       5                1   \n",
       "4  This shirt is very flattering to all due to th...       5                1   \n",
       "\n",
       "   Positive Feedback Count   Division Name Department Name Class Name  \n",
       "0                        0       Initmates        Intimate  Intimates  \n",
       "1                        4         General         Dresses    Dresses  \n",
       "2                        0         General         Dresses    Dresses  \n",
       "3                        0  General Petite         Bottoms      Pants  \n",
       "4                        6         General            Tops    Blouses  "
      ]
     },
     "execution_count": 2,
     "metadata": {},
     "output_type": "execute_result"
    }
   ],
   "source": [
    "# getting the file\n",
    "clothingdf = pd.read_csv('Womens Clothing E-Commerce Reviews.csv')\n",
    "clothingdf.head()"
   ]
  },
  {
   "cell_type": "markdown",
   "id": "d9969733",
   "metadata": {},
   "source": [
    "## Filter the data frame to a relevant subset of columns "
   ]
  },
  {
   "cell_type": "code",
   "execution_count": 3,
   "id": "842a16b6",
   "metadata": {},
   "outputs": [
    {
     "data": {
      "text/html": [
       "<div>\n",
       "<style scoped>\n",
       "    .dataframe tbody tr th:only-of-type {\n",
       "        vertical-align: middle;\n",
       "    }\n",
       "\n",
       "    .dataframe tbody tr th {\n",
       "        vertical-align: top;\n",
       "    }\n",
       "\n",
       "    .dataframe thead th {\n",
       "        text-align: right;\n",
       "    }\n",
       "</style>\n",
       "<table border=\"1\" class=\"dataframe\">\n",
       "  <thead>\n",
       "    <tr style=\"text-align: right;\">\n",
       "      <th></th>\n",
       "      <th>Title</th>\n",
       "      <th>Review Text</th>\n",
       "      <th>Rating</th>\n",
       "      <th>Division Name</th>\n",
       "      <th>Department Name</th>\n",
       "    </tr>\n",
       "  </thead>\n",
       "  <tbody>\n",
       "    <tr>\n",
       "      <th>0</th>\n",
       "      <td>NaN</td>\n",
       "      <td>Absolutely wonderful - silky and sexy and comf...</td>\n",
       "      <td>4</td>\n",
       "      <td>Initmates</td>\n",
       "      <td>Intimate</td>\n",
       "    </tr>\n",
       "    <tr>\n",
       "      <th>1</th>\n",
       "      <td>NaN</td>\n",
       "      <td>Love this dress!  it's sooo pretty.  i happene...</td>\n",
       "      <td>5</td>\n",
       "      <td>General</td>\n",
       "      <td>Dresses</td>\n",
       "    </tr>\n",
       "    <tr>\n",
       "      <th>2</th>\n",
       "      <td>Some major design flaws</td>\n",
       "      <td>I had such high hopes for this dress and reall...</td>\n",
       "      <td>3</td>\n",
       "      <td>General</td>\n",
       "      <td>Dresses</td>\n",
       "    </tr>\n",
       "    <tr>\n",
       "      <th>3</th>\n",
       "      <td>My favorite buy!</td>\n",
       "      <td>I love, love, love this jumpsuit. it's fun, fl...</td>\n",
       "      <td>5</td>\n",
       "      <td>General Petite</td>\n",
       "      <td>Bottoms</td>\n",
       "    </tr>\n",
       "    <tr>\n",
       "      <th>4</th>\n",
       "      <td>Flattering shirt</td>\n",
       "      <td>This shirt is very flattering to all due to th...</td>\n",
       "      <td>5</td>\n",
       "      <td>General</td>\n",
       "      <td>Tops</td>\n",
       "    </tr>\n",
       "  </tbody>\n",
       "</table>\n",
       "</div>"
      ],
      "text/plain": [
       "                     Title                                        Review Text  \\\n",
       "0                      NaN  Absolutely wonderful - silky and sexy and comf...   \n",
       "1                      NaN  Love this dress!  it's sooo pretty.  i happene...   \n",
       "2  Some major design flaws  I had such high hopes for this dress and reall...   \n",
       "3         My favorite buy!  I love, love, love this jumpsuit. it's fun, fl...   \n",
       "4         Flattering shirt  This shirt is very flattering to all due to th...   \n",
       "\n",
       "   Rating   Division Name Department Name  \n",
       "0       4       Initmates        Intimate  \n",
       "1       5         General         Dresses  \n",
       "2       3         General         Dresses  \n",
       "3       5  General Petite         Bottoms  \n",
       "4       5         General            Tops  "
      ]
     },
     "execution_count": 3,
     "metadata": {},
     "output_type": "execute_result"
    }
   ],
   "source": [
    "# removing unnecesary columns\n",
    "clothingdf.drop(['Unnamed: 0', 'Clothing ID', 'Age', 'Recommended IND', \n",
    "                 'Positive Feedback Count', 'Class Name' ], axis = 1, inplace = True)\n",
    "clothingdf.head()"
   ]
  },
  {
   "cell_type": "markdown",
   "id": "ff646d0b",
   "metadata": {},
   "source": [
    "## Standardise column headers"
   ]
  },
  {
   "cell_type": "code",
   "execution_count": 4,
   "id": "f701994e",
   "metadata": {},
   "outputs": [
    {
     "data": {
      "text/html": [
       "<div>\n",
       "<style scoped>\n",
       "    .dataframe tbody tr th:only-of-type {\n",
       "        vertical-align: middle;\n",
       "    }\n",
       "\n",
       "    .dataframe tbody tr th {\n",
       "        vertical-align: top;\n",
       "    }\n",
       "\n",
       "    .dataframe thead th {\n",
       "        text-align: right;\n",
       "    }\n",
       "</style>\n",
       "<table border=\"1\" class=\"dataframe\">\n",
       "  <thead>\n",
       "    <tr style=\"text-align: right;\">\n",
       "      <th></th>\n",
       "      <th>title</th>\n",
       "      <th>review_text</th>\n",
       "      <th>rating</th>\n",
       "      <th>division_name</th>\n",
       "      <th>department_name</th>\n",
       "    </tr>\n",
       "  </thead>\n",
       "  <tbody>\n",
       "    <tr>\n",
       "      <th>0</th>\n",
       "      <td>NaN</td>\n",
       "      <td>Absolutely wonderful - silky and sexy and comf...</td>\n",
       "      <td>4</td>\n",
       "      <td>Initmates</td>\n",
       "      <td>Intimate</td>\n",
       "    </tr>\n",
       "    <tr>\n",
       "      <th>1</th>\n",
       "      <td>NaN</td>\n",
       "      <td>Love this dress!  it's sooo pretty.  i happene...</td>\n",
       "      <td>5</td>\n",
       "      <td>General</td>\n",
       "      <td>Dresses</td>\n",
       "    </tr>\n",
       "    <tr>\n",
       "      <th>2</th>\n",
       "      <td>Some major design flaws</td>\n",
       "      <td>I had such high hopes for this dress and reall...</td>\n",
       "      <td>3</td>\n",
       "      <td>General</td>\n",
       "      <td>Dresses</td>\n",
       "    </tr>\n",
       "    <tr>\n",
       "      <th>3</th>\n",
       "      <td>My favorite buy!</td>\n",
       "      <td>I love, love, love this jumpsuit. it's fun, fl...</td>\n",
       "      <td>5</td>\n",
       "      <td>General Petite</td>\n",
       "      <td>Bottoms</td>\n",
       "    </tr>\n",
       "    <tr>\n",
       "      <th>4</th>\n",
       "      <td>Flattering shirt</td>\n",
       "      <td>This shirt is very flattering to all due to th...</td>\n",
       "      <td>5</td>\n",
       "      <td>General</td>\n",
       "      <td>Tops</td>\n",
       "    </tr>\n",
       "  </tbody>\n",
       "</table>\n",
       "</div>"
      ],
      "text/plain": [
       "                     title                                        review_text  \\\n",
       "0                      NaN  Absolutely wonderful - silky and sexy and comf...   \n",
       "1                      NaN  Love this dress!  it's sooo pretty.  i happene...   \n",
       "2  Some major design flaws  I had such high hopes for this dress and reall...   \n",
       "3         My favorite buy!  I love, love, love this jumpsuit. it's fun, fl...   \n",
       "4         Flattering shirt  This shirt is very flattering to all due to th...   \n",
       "\n",
       "   rating   division_name department_name  \n",
       "0       4       Initmates        Intimate  \n",
       "1       5         General         Dresses  \n",
       "2       3         General         Dresses  \n",
       "3       5  General Petite         Bottoms  \n",
       "4       5         General            Tops  "
      ]
     },
     "execution_count": 4,
     "metadata": {},
     "output_type": "execute_result"
    }
   ],
   "source": [
    "# lowercase\n",
    "clothingdf.columns = clothingdf.columns.str.lower()\n",
    "# remove spaces\n",
    "clothingdf.columns = clothingdf.columns.str.replace(' ','_')\n",
    "clothingdf.head()"
   ]
  },
  {
   "cell_type": "markdown",
   "id": "8306a80f",
   "metadata": {},
   "source": [
    "## EDA - (describe(), shape, info()) and/or simple charts"
   ]
  },
  {
   "cell_type": "code",
   "execution_count": 5,
   "id": "73b16a47",
   "metadata": {},
   "outputs": [
    {
     "data": {
      "text/html": [
       "<div>\n",
       "<style scoped>\n",
       "    .dataframe tbody tr th:only-of-type {\n",
       "        vertical-align: middle;\n",
       "    }\n",
       "\n",
       "    .dataframe tbody tr th {\n",
       "        vertical-align: top;\n",
       "    }\n",
       "\n",
       "    .dataframe thead th {\n",
       "        text-align: right;\n",
       "    }\n",
       "</style>\n",
       "<table border=\"1\" class=\"dataframe\">\n",
       "  <thead>\n",
       "    <tr style=\"text-align: right;\">\n",
       "      <th></th>\n",
       "      <th>rating</th>\n",
       "    </tr>\n",
       "  </thead>\n",
       "  <tbody>\n",
       "    <tr>\n",
       "      <th>count</th>\n",
       "      <td>23486.000000</td>\n",
       "    </tr>\n",
       "    <tr>\n",
       "      <th>mean</th>\n",
       "      <td>4.196032</td>\n",
       "    </tr>\n",
       "    <tr>\n",
       "      <th>std</th>\n",
       "      <td>1.110031</td>\n",
       "    </tr>\n",
       "    <tr>\n",
       "      <th>min</th>\n",
       "      <td>1.000000</td>\n",
       "    </tr>\n",
       "    <tr>\n",
       "      <th>25%</th>\n",
       "      <td>4.000000</td>\n",
       "    </tr>\n",
       "    <tr>\n",
       "      <th>50%</th>\n",
       "      <td>5.000000</td>\n",
       "    </tr>\n",
       "    <tr>\n",
       "      <th>75%</th>\n",
       "      <td>5.000000</td>\n",
       "    </tr>\n",
       "    <tr>\n",
       "      <th>max</th>\n",
       "      <td>5.000000</td>\n",
       "    </tr>\n",
       "  </tbody>\n",
       "</table>\n",
       "</div>"
      ],
      "text/plain": [
       "             rating\n",
       "count  23486.000000\n",
       "mean       4.196032\n",
       "std        1.110031\n",
       "min        1.000000\n",
       "25%        4.000000\n",
       "50%        5.000000\n",
       "75%        5.000000\n",
       "max        5.000000"
      ]
     },
     "execution_count": 5,
     "metadata": {},
     "output_type": "execute_result"
    }
   ],
   "source": [
    "clothingdf.describe()"
   ]
  },
  {
   "cell_type": "code",
   "execution_count": 6,
   "id": "1c4db934",
   "metadata": {},
   "outputs": [
    {
     "data": {
      "text/plain": [
       "(23486, 5)"
      ]
     },
     "execution_count": 6,
     "metadata": {},
     "output_type": "execute_result"
    }
   ],
   "source": [
    "clothingdf.shape"
   ]
  },
  {
   "cell_type": "code",
   "execution_count": 7,
   "id": "c4a38741",
   "metadata": {},
   "outputs": [
    {
     "name": "stdout",
     "output_type": "stream",
     "text": [
      "<class 'pandas.core.frame.DataFrame'>\n",
      "RangeIndex: 23486 entries, 0 to 23485\n",
      "Data columns (total 5 columns):\n",
      " #   Column           Non-Null Count  Dtype \n",
      "---  ------           --------------  ----- \n",
      " 0   title            19676 non-null  object\n",
      " 1   review_text      22641 non-null  object\n",
      " 2   rating           23486 non-null  int64 \n",
      " 3   division_name    23472 non-null  object\n",
      " 4   department_name  23472 non-null  object\n",
      "dtypes: int64(1), object(4)\n",
      "memory usage: 917.5+ KB\n"
     ]
    }
   ],
   "source": [
    "clothingdf.info()"
   ]
  },
  {
   "cell_type": "code",
   "execution_count": 8,
   "id": "7e320af0",
   "metadata": {},
   "outputs": [
    {
     "name": "stdout",
     "output_type": "stream",
     "text": [
      "<class 'pandas.core.frame.DataFrame'>\n",
      "RangeIndex: 19662 entries, 0 to 19661\n",
      "Data columns (total 5 columns):\n",
      " #   Column           Non-Null Count  Dtype \n",
      "---  ------           --------------  ----- \n",
      " 0   title            19662 non-null  object\n",
      " 1   review_text      19662 non-null  object\n",
      " 2   rating           19662 non-null  int64 \n",
      " 3   division_name    19662 non-null  object\n",
      " 4   department_name  19662 non-null  object\n",
      "dtypes: int64(1), object(4)\n",
      "memory usage: 768.2+ KB\n"
     ]
    }
   ],
   "source": [
    "# drop nulls\n",
    "clothingdf.dropna(inplace = True)\n",
    "# reset index\n",
    "clothingdf.reset_index(drop = True, inplace = True)\n",
    "clothingdf.info()"
   ]
  },
  {
   "cell_type": "markdown",
   "id": "7e0679b6",
   "metadata": {},
   "source": [
    "## Summarise the average rating by division and department as a new dataframe"
   ]
  },
  {
   "cell_type": "code",
   "execution_count": 9,
   "id": "f191ec1a",
   "metadata": {},
   "outputs": [
    {
     "data": {
      "text/plain": [
       "division_name   department_name\n",
       "General         Bottoms            4.263083\n",
       "                Dresses            4.150079\n",
       "                Jackets            4.239488\n",
       "                Tops               4.138255\n",
       "                Trend              3.875000\n",
       "General Petite  Bottoms            4.336783\n",
       "                Dresses            4.118314\n",
       "                Intimate           4.223404\n",
       "                Jackets            4.322289\n",
       "                Tops               4.191582\n",
       "                Trend              3.789474\n",
       "Initmates       Intimate           4.263115\n",
       "Name: rating, dtype: float64"
      ]
     },
     "execution_count": 9,
     "metadata": {},
     "output_type": "execute_result"
    }
   ],
   "source": [
    "clothingdf_ratingdivdep = clothingdf.groupby(['division_name', 'department_name'])['rating'].mean()\n",
    "clothingdf_ratingdivdep"
   ]
  },
  {
   "cell_type": "markdown",
   "id": "d5e64709",
   "metadata": {},
   "source": [
    "## Visualise as a bar chart"
   ]
  },
  {
   "cell_type": "code",
   "execution_count": 10,
   "id": "610cb290",
   "metadata": {},
   "outputs": [
    {
     "data": {
      "image/png": "[encoded data removed]",
      "text/plain": [
       "<Figure size 432x288 with 1 Axes>"
      ]
     },
     "metadata": {
      "needs_background": "light"
     },
     "output_type": "display_data"
    }
   ],
   "source": [
    "clothingdf_ratingdivdep.plot.barh()\n",
    "plt.show();"
   ]
  },
  {
   "cell_type": "markdown",
   "id": "b31142dd",
   "metadata": {},
   "source": [
    "## Spot /sample check on review column: index 5.  Apply textblob.  \n",
    "  \n",
    "Do this for at least 3 samples to evaluate the accuracy of the sentiment polarity and subjectivity against the text itself"
   ]
  },
  {
   "cell_type": "code",
   "execution_count": 11,
   "id": "67515e88",
   "metadata": {},
   "outputs": [
    {
     "name": "stdout",
     "output_type": "stream",
     "text": [
      "I ordered this in carbon for store pick up, and had a ton of stuff (as always) to try on and used this top to pair (skirts and pants). everything went with it. the color is really nice charcoal with shimmer, and went well with pencil skirts, flare pants, etc. my only compaint is it is a bit big, sleeves are long and it doesn't go in petite. also a bit loose for me, but no xxs... so i kept it and wil ldecide later since the light color is already sold out in hte smallest size...\n",
      "Sentiment(polarity=0.17163461538461539, subjectivity=0.49615384615384617)\n"
     ]
    }
   ],
   "source": [
    "# getting the text\n",
    "sample = TextBlob(clothingdf.at[5, 'review_text'])\n",
    "print(sample)\n",
    "print(sample.sentiment)"
   ]
  },
  {
   "cell_type": "code",
   "execution_count": 12,
   "id": "5e1a8c34",
   "metadata": {},
   "outputs": [
    {
     "name": "stdout",
     "output_type": "stream",
     "text": [
      "Nice top. armholes are a bit oversized but as an older woman, i'm picky about that. the print is pretty and unusual. it just didn't look great on me. there's a slight peplum in the back that hangs nicely. it's a lightweight tee fabric that's opaque. i tried it on with a black bra which was barely visible. great for warmer climates but there are so many gorgeous tops out now, that i decided to return since summer is winding down. i do recommend.\n",
      "Sentiment(polarity=0.3118518518518519, subjectivity=0.5814814814814816)\n"
     ]
    }
   ],
   "source": [
    "# other 3 samples\n",
    "sample1 = TextBlob(clothingdf.at[42, 'review_text'])\n",
    "print(sample1)\n",
    "print(sample1.sentiment)"
   ]
  },
  {
   "cell_type": "code",
   "execution_count": 13,
   "id": "862e4a42",
   "metadata": {},
   "outputs": [
    {
     "name": "stdout",
     "output_type": "stream",
     "text": [
      "I have been searching for a pale pink sweater for fall. the color and fit is much prettier than the way it is photographed here. i think it will look great over denim, grey, or olive green dresses and shirts.\n",
      "Sentiment(polarity=0.12000000000000001, subjectivity=0.31857142857142856)\n"
     ]
    }
   ],
   "source": [
    "sample2 = TextBlob(clothingdf.at[562, 'review_text'])\n",
    "print(sample2)\n",
    "print(sample2.sentiment)"
   ]
  },
  {
   "cell_type": "code",
   "execution_count": 14,
   "id": "2b3b8391",
   "metadata": {},
   "outputs": [
    {
     "name": "stdout",
     "output_type": "stream",
     "text": [
      "This a lovely piece. you have to see it close up to appreciate the subtle details. i typically wear xxsp or xsp, so i did not expect this to fit, but decided to try it because i liked the style. as a petite, many poncho styles overwhelm me and look like tents. not this one. the xxs fit nicely - just the right length and width. i am 5'1\" and 108 lbs. i think one of the reasons this has not been popular is because it only shows up when searching on ponchos, and not when you search for sweaters. it\n",
      "Sentiment(polarity=0.3077922077922078, subjectivity=0.6623376623376623)\n"
     ]
    }
   ],
   "source": [
    "sample3 = TextBlob(clothingdf.at[1082, 'review_text'])\n",
    "print(sample3)\n",
    "print(sample3.sentiment)"
   ]
  },
  {
   "cell_type": "markdown",
   "id": "0b173358",
   "metadata": {},
   "source": [
    "## Break out any of the sample texts into sentences"
   ]
  },
  {
   "cell_type": "code",
   "execution_count": 15,
   "id": "69d17905",
   "metadata": {},
   "outputs": [
    {
     "data": {
      "text/plain": [
       "[Sentence(\"I ordered this in carbon for store pick up, and had a ton of stuff (as always) to try on and used this top to pair (skirts and pants).\"),\n",
       " Sentence(\"everything went with it.\"),\n",
       " Sentence(\"the color is really nice charcoal with shimmer, and went well with pencil skirts, flare pants, etc.\"),\n",
       " Sentence(\"my only compaint is it is a bit big, sleeves are long and it doesn't go in petite.\"),\n",
       " Sentence(\"also a bit loose for me, but no xxs... so i kept it and wil ldecide later since the light color is already sold out in hte smallest size...\")]"
      ]
     },
     "execution_count": 15,
     "metadata": {},
     "output_type": "execute_result"
    }
   ],
   "source": [
    "sample.sentences"
   ]
  },
  {
   "cell_type": "code",
   "execution_count": 16,
   "id": "083f2025",
   "metadata": {},
   "outputs": [
    {
     "data": {
      "text/plain": [
       "[Sentence(\"This a lovely piece.\"),\n",
       " Sentence(\"you have to see it close up to appreciate the subtle details.\"),\n",
       " Sentence(\"i typically wear xxsp or xsp, so i did not expect this to fit, but decided to try it because i liked the style.\"),\n",
       " Sentence(\"as a petite, many poncho styles overwhelm me and look like tents.\"),\n",
       " Sentence(\"not this one.\"),\n",
       " Sentence(\"the xxs fit nicely - just the right length and width.\"),\n",
       " Sentence(\"i am 5'1\" and 108 lbs.\"),\n",
       " Sentence(\"i think one of the reasons this has not been popular is because it only shows up when searching on ponchos, and not when you search for sweaters.\"),\n",
       " Sentence(\"it\")]"
      ]
     },
     "execution_count": 16,
     "metadata": {},
     "output_type": "execute_result"
    }
   ],
   "source": [
    "sample3.sentences"
   ]
  },
  {
   "cell_type": "markdown",
   "id": "57593fb4",
   "metadata": {},
   "source": [
    "## Define a function with lambda to calculate sentiment polarity as a new column on the data frame"
   ]
  },
  {
   "cell_type": "code",
   "execution_count": 17,
   "id": "6e8a3e43",
   "metadata": {},
   "outputs": [
    {
     "data": {
      "text/html": [
       "<div>\n",
       "<style scoped>\n",
       "    .dataframe tbody tr th:only-of-type {\n",
       "        vertical-align: middle;\n",
       "    }\n",
       "\n",
       "    .dataframe tbody tr th {\n",
       "        vertical-align: top;\n",
       "    }\n",
       "\n",
       "    .dataframe thead th {\n",
       "        text-align: right;\n",
       "    }\n",
       "</style>\n",
       "<table border=\"1\" class=\"dataframe\">\n",
       "  <thead>\n",
       "    <tr style=\"text-align: right;\">\n",
       "      <th></th>\n",
       "      <th>title</th>\n",
       "      <th>review_text</th>\n",
       "      <th>rating</th>\n",
       "      <th>division_name</th>\n",
       "      <th>department_name</th>\n",
       "      <th>sentiment</th>\n",
       "    </tr>\n",
       "  </thead>\n",
       "  <tbody>\n",
       "    <tr>\n",
       "      <th>0</th>\n",
       "      <td>Some major design flaws</td>\n",
       "      <td>I had such high hopes for this dress and reall...</td>\n",
       "      <td>3</td>\n",
       "      <td>General</td>\n",
       "      <td>Dresses</td>\n",
       "      <td>0.073675</td>\n",
       "    </tr>\n",
       "    <tr>\n",
       "      <th>1</th>\n",
       "      <td>My favorite buy!</td>\n",
       "      <td>I love, love, love this jumpsuit. it's fun, fl...</td>\n",
       "      <td>5</td>\n",
       "      <td>General Petite</td>\n",
       "      <td>Bottoms</td>\n",
       "      <td>0.550000</td>\n",
       "    </tr>\n",
       "    <tr>\n",
       "      <th>2</th>\n",
       "      <td>Flattering shirt</td>\n",
       "      <td>This shirt is very flattering to all due to th...</td>\n",
       "      <td>5</td>\n",
       "      <td>General</td>\n",
       "      <td>Tops</td>\n",
       "      <td>0.512891</td>\n",
       "    </tr>\n",
       "    <tr>\n",
       "      <th>3</th>\n",
       "      <td>Not for the very petite</td>\n",
       "      <td>I love tracy reese dresses, but this one is no...</td>\n",
       "      <td>2</td>\n",
       "      <td>General</td>\n",
       "      <td>Dresses</td>\n",
       "      <td>0.178750</td>\n",
       "    </tr>\n",
       "    <tr>\n",
       "      <th>4</th>\n",
       "      <td>Cagrcoal shimmer fun</td>\n",
       "      <td>I aded this in my basket at hte last mintue to...</td>\n",
       "      <td>5</td>\n",
       "      <td>General Petite</td>\n",
       "      <td>Tops</td>\n",
       "      <td>0.133750</td>\n",
       "    </tr>\n",
       "  </tbody>\n",
       "</table>\n",
       "</div>"
      ],
      "text/plain": [
       "                     title                                        review_text  \\\n",
       "0  Some major design flaws  I had such high hopes for this dress and reall...   \n",
       "1         My favorite buy!  I love, love, love this jumpsuit. it's fun, fl...   \n",
       "2         Flattering shirt  This shirt is very flattering to all due to th...   \n",
       "3  Not for the very petite  I love tracy reese dresses, but this one is no...   \n",
       "4     Cagrcoal shimmer fun  I aded this in my basket at hte last mintue to...   \n",
       "\n",
       "   rating   division_name department_name  sentiment  \n",
       "0       3         General         Dresses   0.073675  \n",
       "1       5  General Petite         Bottoms   0.550000  \n",
       "2       5         General            Tops   0.512891  \n",
       "3       2         General         Dresses   0.178750  \n",
       "4       5  General Petite            Tops   0.133750  "
      ]
     },
     "execution_count": 17,
     "metadata": {},
     "output_type": "execute_result"
    }
   ],
   "source": [
    "clothingdf['sentiment'] = clothingdf['review_text'].apply(lambda x:TextBlob(x).sentiment.polarity)\n",
    "clothingdf.head()"
   ]
  },
  {
   "cell_type": "markdown",
   "id": "22429326",
   "metadata": {},
   "source": [
    "## Summarise the minimum review polarity, by division and department"
   ]
  },
  {
   "cell_type": "code",
   "execution_count": 18,
   "id": "42350fd4",
   "metadata": {},
   "outputs": [
    {
     "data": {
      "text/plain": [
       "division_name   department_name\n",
       "General         Tops              -0.975000\n",
       "                Dresses           -0.916667\n",
       "                Jackets           -0.750000\n",
       "General Petite  Tops              -0.700000\n",
       "                Jackets           -0.562500\n",
       "General         Bottoms           -0.533333\n",
       "Initmates       Intimate          -0.392333\n",
       "General Petite  Dresses           -0.350000\n",
       "General         Trend             -0.266667\n",
       "General Petite  Bottoms           -0.257778\n",
       "                Intimate          -0.230000\n",
       "                Trend             -0.083333\n",
       "Name: sentiment, dtype: float64"
      ]
     },
     "execution_count": 18,
     "metadata": {},
     "output_type": "execute_result"
    }
   ],
   "source": [
    "clothingdf_sentiment = clothingdf.groupby(['division_name', 'department_name'])['sentiment'].min().sort_values()\n",
    "clothingdf_sentiment"
   ]
  },
  {
   "cell_type": "markdown",
   "id": "af0393af",
   "metadata": {},
   "source": [
    "## Visualise this summary as a simple sorted bar chart"
   ]
  },
  {
   "cell_type": "code",
   "execution_count": 19,
   "id": "12bafee3",
   "metadata": {},
   "outputs": [
    {
     "data": {
      "image/png": "[encoded data removed]",
      "text/plain": [
       "<Figure size 432x288 with 1 Axes>"
      ]
     },
     "metadata": {
      "needs_background": "light"
     },
     "output_type": "display_data"
    }
   ],
   "source": [
    "clothingdf_sentiment.plot.barh()\n",
    "plt.show();"
   ]
  },
  {
   "cell_type": "markdown",
   "id": "d63cf85a",
   "metadata": {},
   "source": [
    "## Summarise the average review polarity, by division and department"
   ]
  },
  {
   "cell_type": "code",
   "execution_count": 20,
   "id": "e67871f7",
   "metadata": {},
   "outputs": [
    {
     "data": {
      "text/plain": [
       "division_name   department_name\n",
       "General Petite  Trend              0.200323\n",
       "General         Trend              0.217553\n",
       "                Jackets            0.233525\n",
       "General Petite  Intimate           0.236437\n",
       "                Jackets            0.243738\n",
       "                Dresses            0.244588\n",
       "General         Tops               0.244662\n",
       "                Bottoms            0.244726\n",
       "                Dresses            0.245965\n",
       "Initmates       Intimate           0.252428\n",
       "General Petite  Tops               0.253046\n",
       "                Bottoms            0.256405\n",
       "Name: sentiment, dtype: float64"
      ]
     },
     "execution_count": 20,
     "metadata": {},
     "output_type": "execute_result"
    }
   ],
   "source": [
    "clothingdf_sentimentmean = clothingdf.groupby(['division_name', 'department_name'])['sentiment'].mean().sort_values()\n",
    "clothingdf_sentimentmean"
   ]
  },
  {
   "cell_type": "markdown",
   "id": "699d1b7a",
   "metadata": {},
   "source": [
    "## Visualise it"
   ]
  },
  {
   "cell_type": "code",
   "execution_count": 21,
   "id": "6ef9c162",
   "metadata": {},
   "outputs": [
    {
     "data": {
      "image/png": "[encoded data removed]",
      "text/plain": [
       "<Figure size 432x288 with 1 Axes>"
      ]
     },
     "metadata": {
      "needs_background": "light"
     },
     "output_type": "display_data"
    }
   ],
   "source": [
    "clothingdf_sentimentmean.plot.barh()\n",
    "plt.show();"
   ]
  }
 ],
 "metadata": {
  "kernelspec": {
   "display_name": "Python 3 (ipykernel)",
   "language": "python",
   "name": "python3"
  },
  "language_info": {
   "codemirror_mode": {
    "name": "ipython",
    "version": 3
   },
   "file_extension": ".py",
   "mimetype": "text/x-python",
   "name": "python",
   "nbconvert_exporter": "python",
   "pygments_lexer": "ipython3",
   "version": "3.9.7"
  },
  "toc": {
   "base_numbering": 1,
   "nav_menu": {},
   "number_sections": true,
   "sideBar": true,
   "skip_h1_title": true,
   "title_cell": "Table of Contents",
   "title_sidebar": "Contents",
   "toc_cell": false,
   "toc_position": {},
   "toc_section_display": true,
   "toc_window_display": false
  }
 },
 "nbformat": 4,
 "nbformat_minor": 5
}
